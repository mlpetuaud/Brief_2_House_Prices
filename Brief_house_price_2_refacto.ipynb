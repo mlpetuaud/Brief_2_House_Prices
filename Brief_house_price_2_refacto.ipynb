{
 "cells": [
  {
   "cell_type": "code",
   "execution_count": 1,
   "metadata": {},
   "outputs": [],
   "source": [
    "import numpy as np\n",
    "import pandas as pd\n",
    "import matplotlib.pyplot as plt\n",
    "import seaborn as sns\n",
    "sns.set_theme(style=\"white\")\n",
    "\n",
    "## Setting max displayed rows to 500, in order to display the full output of any command\n",
    "pd.set_option('display.max_rows', 500)\n",
    "pd.set_option('display.max_columns', 500)\n",
    "pd.set_option('display.width', 1000)"
   ]
  },
  {
   "cell_type": "code",
   "execution_count": 2,
   "metadata": {},
   "outputs": [],
   "source": [
    "#test_data = pd.read_csv(\"test.csv\")\n",
    "train_data = pd.read_csv(\"train.csv\")"
   ]
  },
  {
   "cell_type": "code",
   "execution_count": 26,
   "metadata": {},
   "outputs": [],
   "source": [
    "from sklearn.model_selection import train_test_split, cross_validate, cross_val_score, GridSearchCV, RandomizedSearchCV\n",
    "\n",
    "from sklearn.preprocessing import MinMaxScaler, OneHotEncoder, OrdinalEncoder\n",
    "\n",
    "from sklearn.impute import SimpleImputer\n",
    "\n",
    "from sklearn.pipeline import Pipeline, make_pipeline\n",
    "\n",
    "from sklearn.compose import ColumnTransformer\n",
    "\n",
    "# pour afficher les pipelines\n",
    "from sklearn import set_config\n",
    "set_config(display='diagram')"
   ]
  },
  {
   "cell_type": "markdown",
   "metadata": {},
   "source": [
    "# Fonctions de préparation"
   ]
  },
  {
   "cell_type": "code",
   "execution_count": 4,
   "metadata": {},
   "outputs": [],
   "source": [
    "def log_prep_train_data(df):\n",
    "    data = df.copy()\n",
    "    # passage en catégoriel d'une variable numérique\n",
    "    data[\"MSSubClass\"] = data[\"MSSubClass\"].astype(dtype=\"object\")\n",
    "    # log sur la target\n",
    "    data[\"Log_SalePrice\"] = np.log(data[\"SalePrice\"])\n",
    "    # outliers\n",
    "    outliers_index = data[(data['LotArea'] > 100000) |\n",
    "                (data[\"MasVnrArea\"] > 1500) |\n",
    "                (data['MiscVal']>6000) |\n",
    "                (data['3SsnPorch']>350) |\n",
    "                (data['EnclosedPorch']>400) |\n",
    "                (data['OpenPorchSF']>450) |\n",
    "                (data['1stFlrSF']>4000) |\n",
    "                (data['TotalBsmtSF']>5000) |\n",
    "                (data['GrLivArea']>4700)].index\n",
    "    data = data.drop(outliers_index)\n",
    "    # séparation X et y. Drop de LotFrontage où trop de valeurs manquantes\n",
    "    X = data.drop([\"Id\", \"LotFrontage\", \"SalePrice\", \"Log_SalePrice\"], axis=1)\n",
    "    y = data[\"Log_SalePrice\"]\n",
    "    return X, y"
   ]
  },
  {
   "cell_type": "code",
   "execution_count": 5,
   "metadata": {},
   "outputs": [],
   "source": [
    "def name_cols(X):\n",
    "    ordinal_cols = [\"LotShape\", \"Utilities\", \"LandSlope\", \"Neighborhood\", \"ExterQual\", \"ExterCond\", \"BsmtQual\", \"BsmtCond\", \n",
    "                \"BsmtExposure\", \"BsmtFinType1\", \"BsmtFinType2\", \"HeatingQC\", \"CentralAir\", \"KitchenQual\",\n",
    "               \"FireplaceQu\", \"GarageFinish\", \"GarageQual\", \"GarageCond\", \"PavedDrive\",\n",
    "               \"PoolQC\", \"Fence\"]\n",
    "    cat_cols = [col for col in X.columns if X[col].dtype == \"object\"]\n",
    "    ohe_cols = [col for col in cat_cols if col not in ordinal_cols]\n",
    "    num_cols = [col for col in X.columns if X[col].dtype in [\"int64\", \"float64\"]]\n",
    "    return ordinal_cols, cat_cols, ohe_cols, num_cols"
   ]
  },
  {
   "cell_type": "code",
   "execution_count": 6,
   "metadata": {},
   "outputs": [],
   "source": [
    "def prep_test_data(df):\n",
    "    data = df.copy()\n",
    "    data[\"MSSubClass\"] = data[\"MSSubClass\"].astype(dtype=\"object\")\n",
    "    X = data.drop([\"Id\", \"LotFrontage\"], axis=1)\n",
    "    return X"
   ]
  },
  {
   "cell_type": "markdown",
   "metadata": {},
   "source": [
    "# Chargement des données et utlisation des fonctions de préparation"
   ]
  },
  {
   "cell_type": "code",
   "execution_count": 7,
   "metadata": {},
   "outputs": [],
   "source": [
    "train = pd.read_csv(\"train.csv\")"
   ]
  },
  {
   "cell_type": "code",
   "execution_count": 8,
   "metadata": {},
   "outputs": [],
   "source": [
    "test = pd.read_csv(\"test.csv\")"
   ]
  },
  {
   "cell_type": "code",
   "execution_count": 9,
   "metadata": {},
   "outputs": [
    {
     "data": {
      "text/plain": [
       "(1446, 78)"
      ]
     },
     "execution_count": 9,
     "metadata": {},
     "output_type": "execute_result"
    }
   ],
   "source": [
    "X_train, y_train = log_prep_train_data(train)\n",
    "X_train.shape"
   ]
  },
  {
   "cell_type": "code",
   "execution_count": 10,
   "metadata": {},
   "outputs": [
    {
     "data": {
      "text/plain": [
       "(1459, 78)"
      ]
     },
     "execution_count": 10,
     "metadata": {},
     "output_type": "execute_result"
    }
   ],
   "source": [
    "X_test = prep_test_data(test)\n",
    "X_test.shape"
   ]
  },
  {
   "cell_type": "code",
   "execution_count": 11,
   "metadata": {},
   "outputs": [
    {
     "name": "stdout",
     "output_type": "stream",
     "text": [
      "44\n",
      "44\n",
      "78\n",
      "21\n"
     ]
    }
   ],
   "source": [
    "ordinal_cols, cat_cols, ohe_cols, num_cols = name_cols(X_test)\n",
    "print(len(ordinal_cols) + len(ohe_cols))\n",
    "print(len(cat_cols))\n",
    "print(len(cat_cols) + len(num_cols))\n",
    "print(len(ordinal_cols))"
   ]
  },
  {
   "cell_type": "markdown",
   "metadata": {},
   "source": [
    "# Préprocessing"
   ]
  },
  {
   "cell_type": "markdown",
   "metadata": {},
   "source": [
    "## Préprocessing ordinal"
   ]
  },
  {
   "cell_type": "code",
   "execution_count": 13,
   "metadata": {},
   "outputs": [
    {
     "data": {
      "text/plain": [
       "21"
      ]
     },
     "execution_count": 13,
     "metadata": {},
     "output_type": "execute_result"
    }
   ],
   "source": [
    "# ATTENTION FAIT APPEL AU DATAFRAME TRAIN (il ne faut pas qu'il fasse appel au test)\n",
    "\n",
    "# créer liste ordonnée des modalités de Neighborhood en fonction du prix de vente\n",
    "ordonned_neighborhood_df = train[[\"Neighborhood\", \"SalePrice\"]].groupby([\"Neighborhood\"], as_index=False).mean()\n",
    "ordonned_neighborhood_df = ordonned_neighborhood_df.sort_values(by=\"SalePrice\")\n",
    "\n",
    "ordonned_neighborhood = list(ordonned_neighborhood_df[\"Neighborhood\"])\n",
    "\n",
    "\n",
    "# listes ordonnées pour encodage ordinal : \n",
    "ordinal_codes = [[\"IR3\", \"IR2\", \"IR1\", \"Reg\"], \n",
    "        [\"ELO\", \"NoSeWa\", \"NoSewr\", \"AllPub\"], \n",
    "        [\"Sev\", \"Mod\", \"Gtl\"], \n",
    "        ordonned_neighborhood, \n",
    "        [\"Po\", \"Fa\", \"TA\", \"Gd\", \"Ex\"], \n",
    "        [\"Po\", \"Fa\", \"TA\", \"Gd\", \"Ex\"], \n",
    "        [\"Missing\", \"Po\", \"Fa\", \"TA\", \"Gd\", \"Ex\"], \n",
    "        [\"Missing\", \"Po\", \"Fa\", \"TA\", \"Gd\", \"Ex\"], \n",
    "        [\"Missing\", \"No\", \"Mn\", \"Av\", \"Gd\"], \n",
    "        [\"Missing\", \"Unf\", \"LwQ\", \"Rec\", \"BLQ\", \"ALQ\", \"GLQ\"], \n",
    "        [\"Missing\", \"Unf\", \"LwQ\", \"Rec\", \"BLQ\", \"ALQ\", \"GLQ\"], \n",
    "        [\"Po\", \"Fa\", \"TA\", \"Gd\", \"Ex\"],\n",
    "        [\"N\", \"Y\"], \n",
    "        [\"Po\", \"Fa\", \"TA\", \"Gd\", \"Ex\"],\n",
    "        [\"Missing\", \"Po\", \"Fa\", \"TA\", \"Gd\", \"Ex\"], \n",
    "        [\"Missing\", \"Unf\", \"RFn\", \"Fin\"], \n",
    "        [\"Missing\", \"Po\", \"Fa\", \"TA\", \"Gd\", \"Ex\"], \n",
    "        [\"Missing\", \"Po\", \"Fa\", \"TA\", \"Gd\", \"Ex\"], \n",
    "        [\"N\", \"P\", \"Y\"], \n",
    "        [\"Missing\", \"Fa\", \"TA\", \"Gd\", \"Ex\"], \n",
    "        [\"Missing\", \"MnWw\", \"GdWo\", \"MnPrv\", \"GdPrv\"]]\n",
    "len(ordinal_codes)\n"
   ]
  },
  {
   "cell_type": "code",
   "execution_count": 14,
   "metadata": {},
   "outputs": [],
   "source": [
    "# imputer données manquantes :\n",
    "ordinal_imputer = SimpleImputer(strategy=\"constant\", fill_value=\"Missing\")\n",
    "\n",
    "# encoder feature catégorielles en ordinal :\n",
    "ordinal_encoder = OrdinalEncoder(categories = ordinal_codes, handle_unknown = \"use_encoded_value\", unknown_value=-999)\n",
    "                                 \n",
    "# ORDINAL PIPELINE :\n",
    "ordinal_pipe = Pipeline([(\"ordinal_imputer\", ordinal_imputer), (\"ordinal_encoder\", ordinal_encoder)])"
   ]
  },
  {
   "cell_type": "markdown",
   "metadata": {},
   "source": [
    "## Préprocessing One Hot"
   ]
  },
  {
   "cell_type": "code",
   "execution_count": 15,
   "metadata": {},
   "outputs": [],
   "source": [
    "# imputer données manquantes :\n",
    "ohe_imputer = SimpleImputer(strategy=\"constant\", fill_value=\"Missing\")\n",
    "\n",
    "# encoder features catégorielles en one hot :\n",
    "ohe_encoder = OneHotEncoder(handle_unknown=\"ignore\")\n",
    "\n",
    "# OHE PIPELINE :\n",
    "ohe_pipe = Pipeline([(\"ohe_imputer\", ohe_imputer), (\"ohe_encoder\", ohe_encoder)])"
   ]
  },
  {
   "cell_type": "markdown",
   "metadata": {},
   "source": [
    "## Préprocessing Numérique"
   ]
  },
  {
   "cell_type": "code",
   "execution_count": 16,
   "metadata": {},
   "outputs": [],
   "source": [
    "# imputer données manquantes :\n",
    "num_imputer = SimpleImputer(strategy=\"constant\", fill_value=0)\n",
    "\n",
    "# scaler les variables numériques :\n",
    "num_scaler = MinMaxScaler()\n",
    "\n",
    "# NUMERICAL PIPELINE :\n",
    "num_pipe = Pipeline([(\"num_imputer\", num_imputer), (\"num_scaler\", num_scaler)])"
   ]
  },
  {
   "cell_type": "markdown",
   "metadata": {},
   "source": [
    "## Pipeline de prépro global"
   ]
  },
  {
   "cell_type": "code",
   "execution_count": 17,
   "metadata": {},
   "outputs": [
    {
     "data": {
      "text/plain": [
       "{'n_jobs': None,\n",
       " 'remainder': 'drop',\n",
       " 'sparse_threshold': 0.3,\n",
       " 'transformer_weights': None,\n",
       " 'transformers': [('ohe_pipe',\n",
       "   Pipeline(steps=[('ohe_imputer',\n",
       "                    SimpleImputer(fill_value='Missing', strategy='constant')),\n",
       "                   ('ohe_encoder', OneHotEncoder(handle_unknown='ignore'))]),\n",
       "   ['MSSubClass',\n",
       "    'MSZoning',\n",
       "    'Street',\n",
       "    'Alley',\n",
       "    'LandContour',\n",
       "    'LotConfig',\n",
       "    'Condition1',\n",
       "    'Condition2',\n",
       "    'BldgType',\n",
       "    'HouseStyle',\n",
       "    'RoofStyle',\n",
       "    'RoofMatl',\n",
       "    'Exterior1st',\n",
       "    'Exterior2nd',\n",
       "    'MasVnrType',\n",
       "    'Foundation',\n",
       "    'Heating',\n",
       "    'Electrical',\n",
       "    'Functional',\n",
       "    'GarageType',\n",
       "    'MiscFeature',\n",
       "    'SaleType',\n",
       "    'SaleCondition']),\n",
       "  ('num_pipe',\n",
       "   Pipeline(steps=[('num_imputer',\n",
       "                    SimpleImputer(fill_value=0, strategy='constant')),\n",
       "                   ('num_scaler', MinMaxScaler())]),\n",
       "   ['LotArea',\n",
       "    'OverallQual',\n",
       "    'OverallCond',\n",
       "    'YearBuilt',\n",
       "    'YearRemodAdd',\n",
       "    'MasVnrArea',\n",
       "    'BsmtFinSF1',\n",
       "    'BsmtFinSF2',\n",
       "    'BsmtUnfSF',\n",
       "    'TotalBsmtSF',\n",
       "    '1stFlrSF',\n",
       "    '2ndFlrSF',\n",
       "    'LowQualFinSF',\n",
       "    'GrLivArea',\n",
       "    'BsmtFullBath',\n",
       "    'BsmtHalfBath',\n",
       "    'FullBath',\n",
       "    'HalfBath',\n",
       "    'BedroomAbvGr',\n",
       "    'KitchenAbvGr',\n",
       "    'TotRmsAbvGrd',\n",
       "    'Fireplaces',\n",
       "    'GarageYrBlt',\n",
       "    'GarageCars',\n",
       "    'GarageArea',\n",
       "    'WoodDeckSF',\n",
       "    'OpenPorchSF',\n",
       "    'EnclosedPorch',\n",
       "    '3SsnPorch',\n",
       "    'ScreenPorch',\n",
       "    'PoolArea',\n",
       "    'MiscVal',\n",
       "    'MoSold',\n",
       "    'YrSold']),\n",
       "  ('ordinal_pipe',\n",
       "   Pipeline(steps=[('ordinal_imputer',\n",
       "                    SimpleImputer(fill_value='Missing', strategy='constant')),\n",
       "                   ('ordinal_encoder',\n",
       "                    OrdinalEncoder(categories=[['IR3', 'IR2', 'IR1', 'Reg'],\n",
       "                                               ['ELO', 'NoSeWa', 'NoSewr',\n",
       "                                                'AllPub'],\n",
       "                                               ['Sev', 'Mod', 'Gtl'],\n",
       "                                               ['MeadowV', 'IDOTRR', 'BrDale',\n",
       "                                                'BrkSide', 'Edwards', 'OldTown',\n",
       "                                                'Sawyer', 'Blueste', 'SWISU',\n",
       "                                                'NPkVill', 'NAmes', 'Mitchel',\n",
       "                                                'SawyerW', 'NWAmes...\n",
       "                                               ['Po', 'Fa', 'TA', 'Gd', 'Ex'],\n",
       "                                               ['N', 'Y'],\n",
       "                                               ['Po', 'Fa', 'TA', 'Gd', 'Ex'],\n",
       "                                               ['Missing', 'Po', 'Fa', 'TA', 'Gd',\n",
       "                                                'Ex'],\n",
       "                                               ['Missing', 'Unf', 'RFn', 'Fin'],\n",
       "                                               ['Missing', 'Po', 'Fa', 'TA', 'Gd',\n",
       "                                                'Ex'],\n",
       "                                               ['Missing', 'Po', 'Fa', 'TA', 'Gd',\n",
       "                                                'Ex'],\n",
       "                                               ['N', 'P', 'Y'],\n",
       "                                               ['Missing', 'Fa', 'TA', 'Gd', 'Ex'],\n",
       "                                               ['Missing', 'MnWw', 'GdWo', 'MnPrv',\n",
       "                                                'GdPrv']],\n",
       "                                   handle_unknown='use_encoded_value',\n",
       "                                   unknown_value=-999))]),\n",
       "   ['LotShape',\n",
       "    'Utilities',\n",
       "    'LandSlope',\n",
       "    'Neighborhood',\n",
       "    'ExterQual',\n",
       "    'ExterCond',\n",
       "    'BsmtQual',\n",
       "    'BsmtCond',\n",
       "    'BsmtExposure',\n",
       "    'BsmtFinType1',\n",
       "    'BsmtFinType2',\n",
       "    'HeatingQC',\n",
       "    'CentralAir',\n",
       "    'KitchenQual',\n",
       "    'FireplaceQu',\n",
       "    'GarageFinish',\n",
       "    'GarageQual',\n",
       "    'GarageCond',\n",
       "    'PavedDrive',\n",
       "    'PoolQC',\n",
       "    'Fence'])],\n",
       " 'verbose': False,\n",
       " 'ohe_pipe': Pipeline(steps=[('ohe_imputer',\n",
       "                  SimpleImputer(fill_value='Missing', strategy='constant')),\n",
       "                 ('ohe_encoder', OneHotEncoder(handle_unknown='ignore'))]),\n",
       " 'num_pipe': Pipeline(steps=[('num_imputer',\n",
       "                  SimpleImputer(fill_value=0, strategy='constant')),\n",
       "                 ('num_scaler', MinMaxScaler())]),\n",
       " 'ordinal_pipe': Pipeline(steps=[('ordinal_imputer',\n",
       "                  SimpleImputer(fill_value='Missing', strategy='constant')),\n",
       "                 ('ordinal_encoder',\n",
       "                  OrdinalEncoder(categories=[['IR3', 'IR2', 'IR1', 'Reg'],\n",
       "                                             ['ELO', 'NoSeWa', 'NoSewr',\n",
       "                                              'AllPub'],\n",
       "                                             ['Sev', 'Mod', 'Gtl'],\n",
       "                                             ['MeadowV', 'IDOTRR', 'BrDale',\n",
       "                                              'BrkSide', 'Edwards', 'OldTown',\n",
       "                                              'Sawyer', 'Blueste', 'SWISU',\n",
       "                                              'NPkVill', 'NAmes', 'Mitchel',\n",
       "                                              'SawyerW', 'NWAmes...\n",
       "                                             ['Po', 'Fa', 'TA', 'Gd', 'Ex'],\n",
       "                                             ['N', 'Y'],\n",
       "                                             ['Po', 'Fa', 'TA', 'Gd', 'Ex'],\n",
       "                                             ['Missing', 'Po', 'Fa', 'TA', 'Gd',\n",
       "                                              'Ex'],\n",
       "                                             ['Missing', 'Unf', 'RFn', 'Fin'],\n",
       "                                             ['Missing', 'Po', 'Fa', 'TA', 'Gd',\n",
       "                                              'Ex'],\n",
       "                                             ['Missing', 'Po', 'Fa', 'TA', 'Gd',\n",
       "                                              'Ex'],\n",
       "                                             ['N', 'P', 'Y'],\n",
       "                                             ['Missing', 'Fa', 'TA', 'Gd', 'Ex'],\n",
       "                                             ['Missing', 'MnWw', 'GdWo', 'MnPrv',\n",
       "                                              'GdPrv']],\n",
       "                                 handle_unknown='use_encoded_value',\n",
       "                                 unknown_value=-999))]),\n",
       " 'ohe_pipe__memory': None,\n",
       " 'ohe_pipe__steps': [('ohe_imputer',\n",
       "   SimpleImputer(fill_value='Missing', strategy='constant')),\n",
       "  ('ohe_encoder', OneHotEncoder(handle_unknown='ignore'))],\n",
       " 'ohe_pipe__verbose': False,\n",
       " 'ohe_pipe__ohe_imputer': SimpleImputer(fill_value='Missing', strategy='constant'),\n",
       " 'ohe_pipe__ohe_encoder': OneHotEncoder(handle_unknown='ignore'),\n",
       " 'ohe_pipe__ohe_imputer__add_indicator': False,\n",
       " 'ohe_pipe__ohe_imputer__copy': True,\n",
       " 'ohe_pipe__ohe_imputer__fill_value': 'Missing',\n",
       " 'ohe_pipe__ohe_imputer__missing_values': nan,\n",
       " 'ohe_pipe__ohe_imputer__strategy': 'constant',\n",
       " 'ohe_pipe__ohe_imputer__verbose': 0,\n",
       " 'ohe_pipe__ohe_encoder__categories': 'auto',\n",
       " 'ohe_pipe__ohe_encoder__drop': None,\n",
       " 'ohe_pipe__ohe_encoder__dtype': numpy.float64,\n",
       " 'ohe_pipe__ohe_encoder__handle_unknown': 'ignore',\n",
       " 'ohe_pipe__ohe_encoder__sparse': True,\n",
       " 'num_pipe__memory': None,\n",
       " 'num_pipe__steps': [('num_imputer',\n",
       "   SimpleImputer(fill_value=0, strategy='constant')),\n",
       "  ('num_scaler', MinMaxScaler())],\n",
       " 'num_pipe__verbose': False,\n",
       " 'num_pipe__num_imputer': SimpleImputer(fill_value=0, strategy='constant'),\n",
       " 'num_pipe__num_scaler': MinMaxScaler(),\n",
       " 'num_pipe__num_imputer__add_indicator': False,\n",
       " 'num_pipe__num_imputer__copy': True,\n",
       " 'num_pipe__num_imputer__fill_value': 0,\n",
       " 'num_pipe__num_imputer__missing_values': nan,\n",
       " 'num_pipe__num_imputer__strategy': 'constant',\n",
       " 'num_pipe__num_imputer__verbose': 0,\n",
       " 'num_pipe__num_scaler__clip': False,\n",
       " 'num_pipe__num_scaler__copy': True,\n",
       " 'num_pipe__num_scaler__feature_range': (0, 1),\n",
       " 'ordinal_pipe__memory': None,\n",
       " 'ordinal_pipe__steps': [('ordinal_imputer',\n",
       "   SimpleImputer(fill_value='Missing', strategy='constant')),\n",
       "  ('ordinal_encoder',\n",
       "   OrdinalEncoder(categories=[['IR3', 'IR2', 'IR1', 'Reg'],\n",
       "                              ['ELO', 'NoSeWa', 'NoSewr', 'AllPub'],\n",
       "                              ['Sev', 'Mod', 'Gtl'],\n",
       "                              ['MeadowV', 'IDOTRR', 'BrDale', 'BrkSide', 'Edwards',\n",
       "                               'OldTown', 'Sawyer', 'Blueste', 'SWISU', 'NPkVill',\n",
       "                               'NAmes', 'Mitchel', 'SawyerW', 'NWAmes', 'Gilbert',\n",
       "                               'Blmngtn', 'CollgCr', 'Crawfor', 'ClearCr',\n",
       "                               'Somerst', 'Veenker', 'Timber', 'StoneBr',\n",
       "                               'NridgHt', 'NoRidge']...\n",
       "                               'GLQ'],\n",
       "                              ['Po', 'Fa', 'TA', 'Gd', 'Ex'], ['N', 'Y'],\n",
       "                              ['Po', 'Fa', 'TA', 'Gd', 'Ex'],\n",
       "                              ['Missing', 'Po', 'Fa', 'TA', 'Gd', 'Ex'],\n",
       "                              ['Missing', 'Unf', 'RFn', 'Fin'],\n",
       "                              ['Missing', 'Po', 'Fa', 'TA', 'Gd', 'Ex'],\n",
       "                              ['Missing', 'Po', 'Fa', 'TA', 'Gd', 'Ex'],\n",
       "                              ['N', 'P', 'Y'], ['Missing', 'Fa', 'TA', 'Gd', 'Ex'],\n",
       "                              ['Missing', 'MnWw', 'GdWo', 'MnPrv', 'GdPrv']],\n",
       "                  handle_unknown='use_encoded_value', unknown_value=-999))],\n",
       " 'ordinal_pipe__verbose': False,\n",
       " 'ordinal_pipe__ordinal_imputer': SimpleImputer(fill_value='Missing', strategy='constant'),\n",
       " 'ordinal_pipe__ordinal_encoder': OrdinalEncoder(categories=[['IR3', 'IR2', 'IR1', 'Reg'],\n",
       "                            ['ELO', 'NoSeWa', 'NoSewr', 'AllPub'],\n",
       "                            ['Sev', 'Mod', 'Gtl'],\n",
       "                            ['MeadowV', 'IDOTRR', 'BrDale', 'BrkSide', 'Edwards',\n",
       "                             'OldTown', 'Sawyer', 'Blueste', 'SWISU', 'NPkVill',\n",
       "                             'NAmes', 'Mitchel', 'SawyerW', 'NWAmes', 'Gilbert',\n",
       "                             'Blmngtn', 'CollgCr', 'Crawfor', 'ClearCr',\n",
       "                             'Somerst', 'Veenker', 'Timber', 'StoneBr',\n",
       "                             'NridgHt', 'NoRidge']...\n",
       "                             'GLQ'],\n",
       "                            ['Po', 'Fa', 'TA', 'Gd', 'Ex'], ['N', 'Y'],\n",
       "                            ['Po', 'Fa', 'TA', 'Gd', 'Ex'],\n",
       "                            ['Missing', 'Po', 'Fa', 'TA', 'Gd', 'Ex'],\n",
       "                            ['Missing', 'Unf', 'RFn', 'Fin'],\n",
       "                            ['Missing', 'Po', 'Fa', 'TA', 'Gd', 'Ex'],\n",
       "                            ['Missing', 'Po', 'Fa', 'TA', 'Gd', 'Ex'],\n",
       "                            ['N', 'P', 'Y'], ['Missing', 'Fa', 'TA', 'Gd', 'Ex'],\n",
       "                            ['Missing', 'MnWw', 'GdWo', 'MnPrv', 'GdPrv']],\n",
       "                handle_unknown='use_encoded_value', unknown_value=-999),\n",
       " 'ordinal_pipe__ordinal_imputer__add_indicator': False,\n",
       " 'ordinal_pipe__ordinal_imputer__copy': True,\n",
       " 'ordinal_pipe__ordinal_imputer__fill_value': 'Missing',\n",
       " 'ordinal_pipe__ordinal_imputer__missing_values': nan,\n",
       " 'ordinal_pipe__ordinal_imputer__strategy': 'constant',\n",
       " 'ordinal_pipe__ordinal_imputer__verbose': 0,\n",
       " 'ordinal_pipe__ordinal_encoder__categories': [['IR3', 'IR2', 'IR1', 'Reg'],\n",
       "  ['ELO', 'NoSeWa', 'NoSewr', 'AllPub'],\n",
       "  ['Sev', 'Mod', 'Gtl'],\n",
       "  ['MeadowV',\n",
       "   'IDOTRR',\n",
       "   'BrDale',\n",
       "   'BrkSide',\n",
       "   'Edwards',\n",
       "   'OldTown',\n",
       "   'Sawyer',\n",
       "   'Blueste',\n",
       "   'SWISU',\n",
       "   'NPkVill',\n",
       "   'NAmes',\n",
       "   'Mitchel',\n",
       "   'SawyerW',\n",
       "   'NWAmes',\n",
       "   'Gilbert',\n",
       "   'Blmngtn',\n",
       "   'CollgCr',\n",
       "   'Crawfor',\n",
       "   'ClearCr',\n",
       "   'Somerst',\n",
       "   'Veenker',\n",
       "   'Timber',\n",
       "   'StoneBr',\n",
       "   'NridgHt',\n",
       "   'NoRidge'],\n",
       "  ['Po', 'Fa', 'TA', 'Gd', 'Ex'],\n",
       "  ['Po', 'Fa', 'TA', 'Gd', 'Ex'],\n",
       "  ['Missing', 'Po', 'Fa', 'TA', 'Gd', 'Ex'],\n",
       "  ['Missing', 'Po', 'Fa', 'TA', 'Gd', 'Ex'],\n",
       "  ['Missing', 'No', 'Mn', 'Av', 'Gd'],\n",
       "  ['Missing', 'Unf', 'LwQ', 'Rec', 'BLQ', 'ALQ', 'GLQ'],\n",
       "  ['Missing', 'Unf', 'LwQ', 'Rec', 'BLQ', 'ALQ', 'GLQ'],\n",
       "  ['Po', 'Fa', 'TA', 'Gd', 'Ex'],\n",
       "  ['N', 'Y'],\n",
       "  ['Po', 'Fa', 'TA', 'Gd', 'Ex'],\n",
       "  ['Missing', 'Po', 'Fa', 'TA', 'Gd', 'Ex'],\n",
       "  ['Missing', 'Unf', 'RFn', 'Fin'],\n",
       "  ['Missing', 'Po', 'Fa', 'TA', 'Gd', 'Ex'],\n",
       "  ['Missing', 'Po', 'Fa', 'TA', 'Gd', 'Ex'],\n",
       "  ['N', 'P', 'Y'],\n",
       "  ['Missing', 'Fa', 'TA', 'Gd', 'Ex'],\n",
       "  ['Missing', 'MnWw', 'GdWo', 'MnPrv', 'GdPrv']],\n",
       " 'ordinal_pipe__ordinal_encoder__dtype': numpy.float64,\n",
       " 'ordinal_pipe__ordinal_encoder__handle_unknown': 'use_encoded_value',\n",
       " 'ordinal_pipe__ordinal_encoder__unknown_value': -999}"
      ]
     },
     "execution_count": 17,
     "metadata": {},
     "output_type": "execute_result"
    }
   ],
   "source": [
    "prepro = ColumnTransformer([(\"ohe_pipe\", ohe_pipe, ohe_cols), (\"num_pipe\", num_pipe, num_cols), (\"ordinal_pipe\", ordinal_pipe, ordinal_cols)])\n",
    "prepro.get_params()"
   ]
  },
  {
   "cell_type": "markdown",
   "metadata": {},
   "source": [
    "# Modèles et pipes associés"
   ]
  },
  {
   "cell_type": "code",
   "execution_count": 18,
   "metadata": {},
   "outputs": [],
   "source": [
    "from sklearn.linear_model import Ridge, Lasso, LassoCV\n",
    "from sklearn.svm import SVR\n",
    "from sklearn.ensemble import RandomForestRegressor"
   ]
  },
  {
   "cell_type": "code",
   "execution_count": 19,
   "metadata": {},
   "outputs": [],
   "source": [
    "model_ridge = Ridge()\n",
    "pipe_ridge = Pipeline([(\"prepro\", prepro), (\"model_ridge\", model_ridge)])"
   ]
  },
  {
   "cell_type": "code",
   "execution_count": 20,
   "metadata": {},
   "outputs": [],
   "source": [
    "model_svr = SVR()\n",
    "pipe_svr = Pipeline([(\"prepro\", prepro), (\"model_svr\", model_svr)])"
   ]
  },
  {
   "cell_type": "code",
   "execution_count": 21,
   "metadata": {},
   "outputs": [],
   "source": [
    "model_forest = RandomForestRegressor()\n",
    "pipe_forest = Pipeline([(\"prepro\", prepro), (\"model_forest\", model_forest)])"
   ]
  },
  {
   "cell_type": "code",
   "execution_count": 22,
   "metadata": {},
   "outputs": [],
   "source": [
    "model_lassocv = LassoCV()\n",
    "pipe_lassocv = Pipeline([(\"prepro\", prepro), (\"lasso_cv\", model_lassocv)])"
   ]
  },
  {
   "cell_type": "markdown",
   "metadata": {},
   "source": [
    "# Définition de la métrique\n",
    "Submissions are evaluated on Root-Mean-Squared-Error (RMSE) between the logarithm of the predicted value and the logarithm of the observed sales price. (Taking logs means that errors in predicting expensive houses and cheap houses will affect the result equally.)"
   ]
  },
  {
   "cell_type": "code",
   "execution_count": 35,
   "metadata": {},
   "outputs": [],
   "source": [
    "from sklearn.metrics import make_scorer, mean_squared_log_error, mean_squared_error\n",
    "import math"
   ]
  },
  {
   "cell_type": "code",
   "execution_count": 36,
   "metadata": {},
   "outputs": [],
   "source": [
    "def custom_score_log(y_true, y_pred):\n",
    "    return math.sqrt(mean_squared_log_error(y_true, y_pred))\n",
    "\n",
    "log_rmse = make_scorer(custom_score_log, greater_is_better=False)"
   ]
  },
  {
   "cell_type": "code",
   "execution_count": 37,
   "metadata": {},
   "outputs": [],
   "source": [
    "def custom_score(y_true, y_pred):\n",
    "    return math.sqrt(mean_squared_error(y_true, y_pred))\n",
    "\n",
    "\n",
    "classic_rmse= make_scorer(custom_score, greater_is_better=False)"
   ]
  },
  {
   "cell_type": "markdown",
   "metadata": {},
   "source": [
    "# Ridge"
   ]
  },
  {
   "cell_type": "markdown",
   "metadata": {},
   "source": [
    "## Entrainement et prédiction sans split (Ridge)"
   ]
  },
  {
   "cell_type": "code",
   "execution_count": 42,
   "metadata": {},
   "outputs": [],
   "source": [
    "X, y = log_prep_train_data(train)"
   ]
  },
  {
   "cell_type": "code",
   "execution_count": 43,
   "metadata": {},
   "outputs": [
    {
     "data": {
      "text/html": [
       "<style>#sk-92d34747-c00b-4722-8948-59a4d568f747 {color: black;background-color: white;}#sk-92d34747-c00b-4722-8948-59a4d568f747 pre{padding: 0;}#sk-92d34747-c00b-4722-8948-59a4d568f747 div.sk-toggleable {background-color: white;}#sk-92d34747-c00b-4722-8948-59a4d568f747 label.sk-toggleable__label {cursor: pointer;display: block;width: 100%;margin-bottom: 0;padding: 0.2em 0.3em;box-sizing: border-box;text-align: center;}#sk-92d34747-c00b-4722-8948-59a4d568f747 div.sk-toggleable__content {max-height: 0;max-width: 0;overflow: hidden;text-align: left;background-color: #f0f8ff;}#sk-92d34747-c00b-4722-8948-59a4d568f747 div.sk-toggleable__content pre {margin: 0.2em;color: black;border-radius: 0.25em;background-color: #f0f8ff;}#sk-92d34747-c00b-4722-8948-59a4d568f747 input.sk-toggleable__control:checked~div.sk-toggleable__content {max-height: 200px;max-width: 100%;overflow: auto;}#sk-92d34747-c00b-4722-8948-59a4d568f747 div.sk-estimator input.sk-toggleable__control:checked~label.sk-toggleable__label {background-color: #d4ebff;}#sk-92d34747-c00b-4722-8948-59a4d568f747 div.sk-label input.sk-toggleable__control:checked~label.sk-toggleable__label {background-color: #d4ebff;}#sk-92d34747-c00b-4722-8948-59a4d568f747 input.sk-hidden--visually {border: 0;clip: rect(1px 1px 1px 1px);clip: rect(1px, 1px, 1px, 1px);height: 1px;margin: -1px;overflow: hidden;padding: 0;position: absolute;width: 1px;}#sk-92d34747-c00b-4722-8948-59a4d568f747 div.sk-estimator {font-family: monospace;background-color: #f0f8ff;margin: 0.25em 0.25em;border: 1px dotted black;border-radius: 0.25em;box-sizing: border-box;}#sk-92d34747-c00b-4722-8948-59a4d568f747 div.sk-estimator:hover {background-color: #d4ebff;}#sk-92d34747-c00b-4722-8948-59a4d568f747 div.sk-parallel-item::after {content: \"\";width: 100%;border-bottom: 1px solid gray;flex-grow: 1;}#sk-92d34747-c00b-4722-8948-59a4d568f747 div.sk-label:hover label.sk-toggleable__label {background-color: #d4ebff;}#sk-92d34747-c00b-4722-8948-59a4d568f747 div.sk-serial::before {content: \"\";position: absolute;border-left: 1px solid gray;box-sizing: border-box;top: 2em;bottom: 0;left: 50%;}#sk-92d34747-c00b-4722-8948-59a4d568f747 div.sk-serial {display: flex;flex-direction: column;align-items: center;background-color: white;}#sk-92d34747-c00b-4722-8948-59a4d568f747 div.sk-item {z-index: 1;}#sk-92d34747-c00b-4722-8948-59a4d568f747 div.sk-parallel {display: flex;align-items: stretch;justify-content: center;background-color: white;}#sk-92d34747-c00b-4722-8948-59a4d568f747 div.sk-parallel-item {display: flex;flex-direction: column;position: relative;background-color: white;}#sk-92d34747-c00b-4722-8948-59a4d568f747 div.sk-parallel-item:first-child::after {align-self: flex-end;width: 50%;}#sk-92d34747-c00b-4722-8948-59a4d568f747 div.sk-parallel-item:last-child::after {align-self: flex-start;width: 50%;}#sk-92d34747-c00b-4722-8948-59a4d568f747 div.sk-parallel-item:only-child::after {width: 0;}#sk-92d34747-c00b-4722-8948-59a4d568f747 div.sk-dashed-wrapped {border: 1px dashed gray;margin: 0.2em;box-sizing: border-box;padding-bottom: 0.1em;background-color: white;position: relative;}#sk-92d34747-c00b-4722-8948-59a4d568f747 div.sk-label label {font-family: monospace;font-weight: bold;background-color: white;display: inline-block;line-height: 1.2em;}#sk-92d34747-c00b-4722-8948-59a4d568f747 div.sk-label-container {position: relative;z-index: 2;text-align: center;}#sk-92d34747-c00b-4722-8948-59a4d568f747 div.sk-container {display: inline-block;position: relative;}</style><div id=\"sk-92d34747-c00b-4722-8948-59a4d568f747\" class\"sk-top-container\"><div class=\"sk-container\"><div class=\"sk-item sk-dashed-wrapped\"><div class=\"sk-label-container\"><div class=\"sk-label sk-toggleable\"><input class=\"sk-toggleable__control sk-hidden--visually\" id=\"bb241a94-2748-4e3c-9bda-c04826cb5e65\" type=\"checkbox\" ><label class=\"sk-toggleable__label\" for=\"bb241a94-2748-4e3c-9bda-c04826cb5e65\">Pipeline</label><div class=\"sk-toggleable__content\"><pre>Pipeline(steps=[('prepro',\n",
       "                 ColumnTransformer(transformers=[('ohe_pipe',\n",
       "                                                  Pipeline(steps=[('ohe_imputer',\n",
       "                                                                   SimpleImputer(fill_value='Missing',\n",
       "                                                                                 strategy='constant')),\n",
       "                                                                  ('ohe_encoder',\n",
       "                                                                   OneHotEncoder(handle_unknown='ignore'))]),\n",
       "                                                  ['MSSubClass', 'MSZoning',\n",
       "                                                   'Street', 'Alley',\n",
       "                                                   'LandContour', 'LotConfig',\n",
       "                                                   'Condition1', 'Condition2',\n",
       "                                                   'BldgType', 'HouseStyle',\n",
       "                                                   'RoofStyle', 'Roof...\n",
       "                                                                                  handle_unknown='use_encoded_value',\n",
       "                                                                                  unknown_value=-999))]),\n",
       "                                                  ['LotShape', 'Utilities',\n",
       "                                                   'LandSlope', 'Neighborhood',\n",
       "                                                   'ExterQual', 'ExterCond',\n",
       "                                                   'BsmtQual', 'BsmtCond',\n",
       "                                                   'BsmtExposure',\n",
       "                                                   'BsmtFinType1',\n",
       "                                                   'BsmtFinType2', 'HeatingQC',\n",
       "                                                   'CentralAir', 'KitchenQual',\n",
       "                                                   'FireplaceQu',\n",
       "                                                   'GarageFinish', 'GarageQual',\n",
       "                                                   'GarageCond', 'PavedDrive',\n",
       "                                                   'PoolQC', 'Fence'])])),\n",
       "                ('model_ridge', Ridge())])</pre></div></div></div><div class=\"sk-serial\"><div class=\"sk-item sk-dashed-wrapped\"><div class=\"sk-label-container\"><div class=\"sk-label sk-toggleable\"><input class=\"sk-toggleable__control sk-hidden--visually\" id=\"35906ff2-c415-4629-976c-5c84500d1328\" type=\"checkbox\" ><label class=\"sk-toggleable__label\" for=\"35906ff2-c415-4629-976c-5c84500d1328\">prepro: ColumnTransformer</label><div class=\"sk-toggleable__content\"><pre>ColumnTransformer(transformers=[('ohe_pipe',\n",
       "                                 Pipeline(steps=[('ohe_imputer',\n",
       "                                                  SimpleImputer(fill_value='Missing',\n",
       "                                                                strategy='constant')),\n",
       "                                                 ('ohe_encoder',\n",
       "                                                  OneHotEncoder(handle_unknown='ignore'))]),\n",
       "                                 ['MSSubClass', 'MSZoning', 'Street', 'Alley',\n",
       "                                  'LandContour', 'LotConfig', 'Condition1',\n",
       "                                  'Condition2', 'BldgType', 'HouseStyle',\n",
       "                                  'RoofStyle', 'RoofMatl', 'Exterior1st',\n",
       "                                  'Exter...\n",
       "                                                                              'GdWo',\n",
       "                                                                              'MnPrv',\n",
       "                                                                              'GdPrv']],\n",
       "                                                                 handle_unknown='use_encoded_value',\n",
       "                                                                 unknown_value=-999))]),\n",
       "                                 ['LotShape', 'Utilities', 'LandSlope',\n",
       "                                  'Neighborhood', 'ExterQual', 'ExterCond',\n",
       "                                  'BsmtQual', 'BsmtCond', 'BsmtExposure',\n",
       "                                  'BsmtFinType1', 'BsmtFinType2', 'HeatingQC',\n",
       "                                  'CentralAir', 'KitchenQual', 'FireplaceQu',\n",
       "                                  'GarageFinish', 'GarageQual', 'GarageCond',\n",
       "                                  'PavedDrive', 'PoolQC', 'Fence'])])</pre></div></div></div><div class=\"sk-parallel\"><div class=\"sk-parallel-item\"><div class=\"sk-item\"><div class=\"sk-label-container\"><div class=\"sk-label sk-toggleable\"><input class=\"sk-toggleable__control sk-hidden--visually\" id=\"b935cc3f-9ad6-4ce2-9daf-3316b78f31e1\" type=\"checkbox\" ><label class=\"sk-toggleable__label\" for=\"b935cc3f-9ad6-4ce2-9daf-3316b78f31e1\">ohe_pipe</label><div class=\"sk-toggleable__content\"><pre>['MSSubClass', 'MSZoning', 'Street', 'Alley', 'LandContour', 'LotConfig', 'Condition1', 'Condition2', 'BldgType', 'HouseStyle', 'RoofStyle', 'RoofMatl', 'Exterior1st', 'Exterior2nd', 'MasVnrType', 'Foundation', 'Heating', 'Electrical', 'Functional', 'GarageType', 'MiscFeature', 'SaleType', 'SaleCondition']</pre></div></div></div><div class=\"sk-serial\"><div class=\"sk-item\"><div class=\"sk-serial\"><div class=\"sk-item\"><div class=\"sk-estimator sk-toggleable\"><input class=\"sk-toggleable__control sk-hidden--visually\" id=\"dfaab12b-8685-4c09-8868-8cbe976f1fc1\" type=\"checkbox\" ><label class=\"sk-toggleable__label\" for=\"dfaab12b-8685-4c09-8868-8cbe976f1fc1\">SimpleImputer</label><div class=\"sk-toggleable__content\"><pre>SimpleImputer(fill_value='Missing', strategy='constant')</pre></div></div></div><div class=\"sk-item\"><div class=\"sk-estimator sk-toggleable\"><input class=\"sk-toggleable__control sk-hidden--visually\" id=\"13f52ea8-2424-47db-b99e-b5776220f667\" type=\"checkbox\" ><label class=\"sk-toggleable__label\" for=\"13f52ea8-2424-47db-b99e-b5776220f667\">OneHotEncoder</label><div class=\"sk-toggleable__content\"><pre>OneHotEncoder(handle_unknown='ignore')</pre></div></div></div></div></div></div></div></div><div class=\"sk-parallel-item\"><div class=\"sk-item\"><div class=\"sk-label-container\"><div class=\"sk-label sk-toggleable\"><input class=\"sk-toggleable__control sk-hidden--visually\" id=\"3615065a-4dec-400b-9d60-fabec2514aa8\" type=\"checkbox\" ><label class=\"sk-toggleable__label\" for=\"3615065a-4dec-400b-9d60-fabec2514aa8\">num_pipe</label><div class=\"sk-toggleable__content\"><pre>['LotArea', 'OverallQual', 'OverallCond', 'YearBuilt', 'YearRemodAdd', 'MasVnrArea', 'BsmtFinSF1', 'BsmtFinSF2', 'BsmtUnfSF', 'TotalBsmtSF', '1stFlrSF', '2ndFlrSF', 'LowQualFinSF', 'GrLivArea', 'BsmtFullBath', 'BsmtHalfBath', 'FullBath', 'HalfBath', 'BedroomAbvGr', 'KitchenAbvGr', 'TotRmsAbvGrd', 'Fireplaces', 'GarageYrBlt', 'GarageCars', 'GarageArea', 'WoodDeckSF', 'OpenPorchSF', 'EnclosedPorch', '3SsnPorch', 'ScreenPorch', 'PoolArea', 'MiscVal', 'MoSold', 'YrSold']</pre></div></div></div><div class=\"sk-serial\"><div class=\"sk-item\"><div class=\"sk-serial\"><div class=\"sk-item\"><div class=\"sk-estimator sk-toggleable\"><input class=\"sk-toggleable__control sk-hidden--visually\" id=\"99d3b417-5852-422a-9d19-0f8f1d51e106\" type=\"checkbox\" ><label class=\"sk-toggleable__label\" for=\"99d3b417-5852-422a-9d19-0f8f1d51e106\">SimpleImputer</label><div class=\"sk-toggleable__content\"><pre>SimpleImputer(fill_value=0, strategy='constant')</pre></div></div></div><div class=\"sk-item\"><div class=\"sk-estimator sk-toggleable\"><input class=\"sk-toggleable__control sk-hidden--visually\" id=\"64931242-3458-44eb-9652-98000e56a7b9\" type=\"checkbox\" ><label class=\"sk-toggleable__label\" for=\"64931242-3458-44eb-9652-98000e56a7b9\">MinMaxScaler</label><div class=\"sk-toggleable__content\"><pre>MinMaxScaler()</pre></div></div></div></div></div></div></div></div><div class=\"sk-parallel-item\"><div class=\"sk-item\"><div class=\"sk-label-container\"><div class=\"sk-label sk-toggleable\"><input class=\"sk-toggleable__control sk-hidden--visually\" id=\"9b542155-cbda-468c-87da-b7ebc21cb689\" type=\"checkbox\" ><label class=\"sk-toggleable__label\" for=\"9b542155-cbda-468c-87da-b7ebc21cb689\">ordinal_pipe</label><div class=\"sk-toggleable__content\"><pre>['LotShape', 'Utilities', 'LandSlope', 'Neighborhood', 'ExterQual', 'ExterCond', 'BsmtQual', 'BsmtCond', 'BsmtExposure', 'BsmtFinType1', 'BsmtFinType2', 'HeatingQC', 'CentralAir', 'KitchenQual', 'FireplaceQu', 'GarageFinish', 'GarageQual', 'GarageCond', 'PavedDrive', 'PoolQC', 'Fence']</pre></div></div></div><div class=\"sk-serial\"><div class=\"sk-item\"><div class=\"sk-serial\"><div class=\"sk-item\"><div class=\"sk-estimator sk-toggleable\"><input class=\"sk-toggleable__control sk-hidden--visually\" id=\"69a7bf3c-3f56-4fef-9de5-19fcc8d9f496\" type=\"checkbox\" ><label class=\"sk-toggleable__label\" for=\"69a7bf3c-3f56-4fef-9de5-19fcc8d9f496\">SimpleImputer</label><div class=\"sk-toggleable__content\"><pre>SimpleImputer(fill_value='Missing', strategy='constant')</pre></div></div></div><div class=\"sk-item\"><div class=\"sk-estimator sk-toggleable\"><input class=\"sk-toggleable__control sk-hidden--visually\" id=\"17dc2e7a-8f9e-4448-ba77-baea15c8e67e\" type=\"checkbox\" ><label class=\"sk-toggleable__label\" for=\"17dc2e7a-8f9e-4448-ba77-baea15c8e67e\">OrdinalEncoder</label><div class=\"sk-toggleable__content\"><pre>OrdinalEncoder(categories=[['IR3', 'IR2', 'IR1', 'Reg'],\n",
       "                           ['ELO', 'NoSeWa', 'NoSewr', 'AllPub'],\n",
       "                           ['Sev', 'Mod', 'Gtl'],\n",
       "                           ['MeadowV', 'IDOTRR', 'BrDale', 'BrkSide', 'Edwards',\n",
       "                            'OldTown', 'Sawyer', 'Blueste', 'SWISU', 'NPkVill',\n",
       "                            'NAmes', 'Mitchel', 'SawyerW', 'NWAmes', 'Gilbert',\n",
       "                            'Blmngtn', 'CollgCr', 'Crawfor', 'ClearCr',\n",
       "                            'Somerst', 'Veenker', 'Timber', 'StoneBr',\n",
       "                            'NridgHt', 'NoRidge']...\n",
       "                            'GLQ'],\n",
       "                           ['Po', 'Fa', 'TA', 'Gd', 'Ex'], ['N', 'Y'],\n",
       "                           ['Po', 'Fa', 'TA', 'Gd', 'Ex'],\n",
       "                           ['Missing', 'Po', 'Fa', 'TA', 'Gd', 'Ex'],\n",
       "                           ['Missing', 'Unf', 'RFn', 'Fin'],\n",
       "                           ['Missing', 'Po', 'Fa', 'TA', 'Gd', 'Ex'],\n",
       "                           ['Missing', 'Po', 'Fa', 'TA', 'Gd', 'Ex'],\n",
       "                           ['N', 'P', 'Y'], ['Missing', 'Fa', 'TA', 'Gd', 'Ex'],\n",
       "                           ['Missing', 'MnWw', 'GdWo', 'MnPrv', 'GdPrv']],\n",
       "               handle_unknown='use_encoded_value', unknown_value=-999)</pre></div></div></div></div></div></div></div></div></div></div><div class=\"sk-item\"><div class=\"sk-estimator sk-toggleable\"><input class=\"sk-toggleable__control sk-hidden--visually\" id=\"d878f244-c6d4-4592-8898-11f554fedd22\" type=\"checkbox\" ><label class=\"sk-toggleable__label\" for=\"d878f244-c6d4-4592-8898-11f554fedd22\">Ridge</label><div class=\"sk-toggleable__content\"><pre>Ridge()</pre></div></div></div></div></div></div></div>"
      ],
      "text/plain": [
       "Pipeline(steps=[('prepro',\n",
       "                 ColumnTransformer(transformers=[('ohe_pipe',\n",
       "                                                  Pipeline(steps=[('ohe_imputer',\n",
       "                                                                   SimpleImputer(fill_value='Missing',\n",
       "                                                                                 strategy='constant')),\n",
       "                                                                  ('ohe_encoder',\n",
       "                                                                   OneHotEncoder(handle_unknown='ignore'))]),\n",
       "                                                  ['MSSubClass', 'MSZoning',\n",
       "                                                   'Street', 'Alley',\n",
       "                                                   'LandContour', 'LotConfig',\n",
       "                                                   'Condition1', 'Condition2',\n",
       "                                                   'BldgType', 'HouseStyle',\n",
       "                                                   'RoofStyle', 'Roof...\n",
       "                                                                                  handle_unknown='use_encoded_value',\n",
       "                                                                                  unknown_value=-999))]),\n",
       "                                                  ['LotShape', 'Utilities',\n",
       "                                                   'LandSlope', 'Neighborhood',\n",
       "                                                   'ExterQual', 'ExterCond',\n",
       "                                                   'BsmtQual', 'BsmtCond',\n",
       "                                                   'BsmtExposure',\n",
       "                                                   'BsmtFinType1',\n",
       "                                                   'BsmtFinType2', 'HeatingQC',\n",
       "                                                   'CentralAir', 'KitchenQual',\n",
       "                                                   'FireplaceQu',\n",
       "                                                   'GarageFinish', 'GarageQual',\n",
       "                                                   'GarageCond', 'PavedDrive',\n",
       "                                                   'PoolQC', 'Fence'])])),\n",
       "                ('model_ridge', Ridge())])"
      ]
     },
     "execution_count": 43,
     "metadata": {},
     "output_type": "execute_result"
    }
   ],
   "source": [
    "pipe_ridge.fit(X, y)"
   ]
  },
  {
   "cell_type": "code",
   "execution_count": 44,
   "metadata": {},
   "outputs": [
    {
     "data": {
      "text/plain": [
       "array([-0.11535955, -0.15321363, -0.13058881, -0.11493633, -0.11670488])"
      ]
     },
     "execution_count": 44,
     "metadata": {},
     "output_type": "execute_result"
    }
   ],
   "source": [
    "cross_val_score(pipe_ridge, X_train, y_train, scoring=classic_rmse)"
   ]
  },
  {
   "cell_type": "markdown",
   "metadata": {},
   "source": [
    "## Entrainement et prédiction avec split (Ridge)"
   ]
  },
  {
   "cell_type": "code",
   "execution_count": 45,
   "metadata": {},
   "outputs": [],
   "source": [
    "X_train, X_val, y_train, y_val = train_test_split(X, y, test_size = 0.2, random_state = 0)"
   ]
  },
  {
   "cell_type": "code",
   "execution_count": 46,
   "metadata": {},
   "outputs": [
    {
     "data": {
      "text/html": [
       "<style>#sk-239eac4d-3a10-481d-9be3-483531113de3 {color: black;background-color: white;}#sk-239eac4d-3a10-481d-9be3-483531113de3 pre{padding: 0;}#sk-239eac4d-3a10-481d-9be3-483531113de3 div.sk-toggleable {background-color: white;}#sk-239eac4d-3a10-481d-9be3-483531113de3 label.sk-toggleable__label {cursor: pointer;display: block;width: 100%;margin-bottom: 0;padding: 0.2em 0.3em;box-sizing: border-box;text-align: center;}#sk-239eac4d-3a10-481d-9be3-483531113de3 div.sk-toggleable__content {max-height: 0;max-width: 0;overflow: hidden;text-align: left;background-color: #f0f8ff;}#sk-239eac4d-3a10-481d-9be3-483531113de3 div.sk-toggleable__content pre {margin: 0.2em;color: black;border-radius: 0.25em;background-color: #f0f8ff;}#sk-239eac4d-3a10-481d-9be3-483531113de3 input.sk-toggleable__control:checked~div.sk-toggleable__content {max-height: 200px;max-width: 100%;overflow: auto;}#sk-239eac4d-3a10-481d-9be3-483531113de3 div.sk-estimator input.sk-toggleable__control:checked~label.sk-toggleable__label {background-color: #d4ebff;}#sk-239eac4d-3a10-481d-9be3-483531113de3 div.sk-label input.sk-toggleable__control:checked~label.sk-toggleable__label {background-color: #d4ebff;}#sk-239eac4d-3a10-481d-9be3-483531113de3 input.sk-hidden--visually {border: 0;clip: rect(1px 1px 1px 1px);clip: rect(1px, 1px, 1px, 1px);height: 1px;margin: -1px;overflow: hidden;padding: 0;position: absolute;width: 1px;}#sk-239eac4d-3a10-481d-9be3-483531113de3 div.sk-estimator {font-family: monospace;background-color: #f0f8ff;margin: 0.25em 0.25em;border: 1px dotted black;border-radius: 0.25em;box-sizing: border-box;}#sk-239eac4d-3a10-481d-9be3-483531113de3 div.sk-estimator:hover {background-color: #d4ebff;}#sk-239eac4d-3a10-481d-9be3-483531113de3 div.sk-parallel-item::after {content: \"\";width: 100%;border-bottom: 1px solid gray;flex-grow: 1;}#sk-239eac4d-3a10-481d-9be3-483531113de3 div.sk-label:hover label.sk-toggleable__label {background-color: #d4ebff;}#sk-239eac4d-3a10-481d-9be3-483531113de3 div.sk-serial::before {content: \"\";position: absolute;border-left: 1px solid gray;box-sizing: border-box;top: 2em;bottom: 0;left: 50%;}#sk-239eac4d-3a10-481d-9be3-483531113de3 div.sk-serial {display: flex;flex-direction: column;align-items: center;background-color: white;}#sk-239eac4d-3a10-481d-9be3-483531113de3 div.sk-item {z-index: 1;}#sk-239eac4d-3a10-481d-9be3-483531113de3 div.sk-parallel {display: flex;align-items: stretch;justify-content: center;background-color: white;}#sk-239eac4d-3a10-481d-9be3-483531113de3 div.sk-parallel-item {display: flex;flex-direction: column;position: relative;background-color: white;}#sk-239eac4d-3a10-481d-9be3-483531113de3 div.sk-parallel-item:first-child::after {align-self: flex-end;width: 50%;}#sk-239eac4d-3a10-481d-9be3-483531113de3 div.sk-parallel-item:last-child::after {align-self: flex-start;width: 50%;}#sk-239eac4d-3a10-481d-9be3-483531113de3 div.sk-parallel-item:only-child::after {width: 0;}#sk-239eac4d-3a10-481d-9be3-483531113de3 div.sk-dashed-wrapped {border: 1px dashed gray;margin: 0.2em;box-sizing: border-box;padding-bottom: 0.1em;background-color: white;position: relative;}#sk-239eac4d-3a10-481d-9be3-483531113de3 div.sk-label label {font-family: monospace;font-weight: bold;background-color: white;display: inline-block;line-height: 1.2em;}#sk-239eac4d-3a10-481d-9be3-483531113de3 div.sk-label-container {position: relative;z-index: 2;text-align: center;}#sk-239eac4d-3a10-481d-9be3-483531113de3 div.sk-container {display: inline-block;position: relative;}</style><div id=\"sk-239eac4d-3a10-481d-9be3-483531113de3\" class\"sk-top-container\"><div class=\"sk-container\"><div class=\"sk-item sk-dashed-wrapped\"><div class=\"sk-label-container\"><div class=\"sk-label sk-toggleable\"><input class=\"sk-toggleable__control sk-hidden--visually\" id=\"002acc6a-7cac-4f0a-bec3-fd939f9b3066\" type=\"checkbox\" ><label class=\"sk-toggleable__label\" for=\"002acc6a-7cac-4f0a-bec3-fd939f9b3066\">Pipeline</label><div class=\"sk-toggleable__content\"><pre>Pipeline(steps=[('prepro',\n",
       "                 ColumnTransformer(transformers=[('ohe_pipe',\n",
       "                                                  Pipeline(steps=[('ohe_imputer',\n",
       "                                                                   SimpleImputer(fill_value='Missing',\n",
       "                                                                                 strategy='constant')),\n",
       "                                                                  ('ohe_encoder',\n",
       "                                                                   OneHotEncoder(handle_unknown='ignore'))]),\n",
       "                                                  ['MSSubClass', 'MSZoning',\n",
       "                                                   'Street', 'Alley',\n",
       "                                                   'LandContour', 'LotConfig',\n",
       "                                                   'Condition1', 'Condition2',\n",
       "                                                   'BldgType', 'HouseStyle',\n",
       "                                                   'RoofStyle', 'Roof...\n",
       "                                                                                  handle_unknown='use_encoded_value',\n",
       "                                                                                  unknown_value=-999))]),\n",
       "                                                  ['LotShape', 'Utilities',\n",
       "                                                   'LandSlope', 'Neighborhood',\n",
       "                                                   'ExterQual', 'ExterCond',\n",
       "                                                   'BsmtQual', 'BsmtCond',\n",
       "                                                   'BsmtExposure',\n",
       "                                                   'BsmtFinType1',\n",
       "                                                   'BsmtFinType2', 'HeatingQC',\n",
       "                                                   'CentralAir', 'KitchenQual',\n",
       "                                                   'FireplaceQu',\n",
       "                                                   'GarageFinish', 'GarageQual',\n",
       "                                                   'GarageCond', 'PavedDrive',\n",
       "                                                   'PoolQC', 'Fence'])])),\n",
       "                ('model_ridge', Ridge())])</pre></div></div></div><div class=\"sk-serial\"><div class=\"sk-item sk-dashed-wrapped\"><div class=\"sk-label-container\"><div class=\"sk-label sk-toggleable\"><input class=\"sk-toggleable__control sk-hidden--visually\" id=\"3b6c03d0-25ae-4d21-9da9-d477a2a4c997\" type=\"checkbox\" ><label class=\"sk-toggleable__label\" for=\"3b6c03d0-25ae-4d21-9da9-d477a2a4c997\">prepro: ColumnTransformer</label><div class=\"sk-toggleable__content\"><pre>ColumnTransformer(transformers=[('ohe_pipe',\n",
       "                                 Pipeline(steps=[('ohe_imputer',\n",
       "                                                  SimpleImputer(fill_value='Missing',\n",
       "                                                                strategy='constant')),\n",
       "                                                 ('ohe_encoder',\n",
       "                                                  OneHotEncoder(handle_unknown='ignore'))]),\n",
       "                                 ['MSSubClass', 'MSZoning', 'Street', 'Alley',\n",
       "                                  'LandContour', 'LotConfig', 'Condition1',\n",
       "                                  'Condition2', 'BldgType', 'HouseStyle',\n",
       "                                  'RoofStyle', 'RoofMatl', 'Exterior1st',\n",
       "                                  'Exter...\n",
       "                                                                              'GdWo',\n",
       "                                                                              'MnPrv',\n",
       "                                                                              'GdPrv']],\n",
       "                                                                 handle_unknown='use_encoded_value',\n",
       "                                                                 unknown_value=-999))]),\n",
       "                                 ['LotShape', 'Utilities', 'LandSlope',\n",
       "                                  'Neighborhood', 'ExterQual', 'ExterCond',\n",
       "                                  'BsmtQual', 'BsmtCond', 'BsmtExposure',\n",
       "                                  'BsmtFinType1', 'BsmtFinType2', 'HeatingQC',\n",
       "                                  'CentralAir', 'KitchenQual', 'FireplaceQu',\n",
       "                                  'GarageFinish', 'GarageQual', 'GarageCond',\n",
       "                                  'PavedDrive', 'PoolQC', 'Fence'])])</pre></div></div></div><div class=\"sk-parallel\"><div class=\"sk-parallel-item\"><div class=\"sk-item\"><div class=\"sk-label-container\"><div class=\"sk-label sk-toggleable\"><input class=\"sk-toggleable__control sk-hidden--visually\" id=\"80e45317-6517-40c1-91ee-6ef6903e47da\" type=\"checkbox\" ><label class=\"sk-toggleable__label\" for=\"80e45317-6517-40c1-91ee-6ef6903e47da\">ohe_pipe</label><div class=\"sk-toggleable__content\"><pre>['MSSubClass', 'MSZoning', 'Street', 'Alley', 'LandContour', 'LotConfig', 'Condition1', 'Condition2', 'BldgType', 'HouseStyle', 'RoofStyle', 'RoofMatl', 'Exterior1st', 'Exterior2nd', 'MasVnrType', 'Foundation', 'Heating', 'Electrical', 'Functional', 'GarageType', 'MiscFeature', 'SaleType', 'SaleCondition']</pre></div></div></div><div class=\"sk-serial\"><div class=\"sk-item\"><div class=\"sk-serial\"><div class=\"sk-item\"><div class=\"sk-estimator sk-toggleable\"><input class=\"sk-toggleable__control sk-hidden--visually\" id=\"ad3b0848-1646-4e48-9edd-b47047e89d10\" type=\"checkbox\" ><label class=\"sk-toggleable__label\" for=\"ad3b0848-1646-4e48-9edd-b47047e89d10\">SimpleImputer</label><div class=\"sk-toggleable__content\"><pre>SimpleImputer(fill_value='Missing', strategy='constant')</pre></div></div></div><div class=\"sk-item\"><div class=\"sk-estimator sk-toggleable\"><input class=\"sk-toggleable__control sk-hidden--visually\" id=\"fc542019-b842-4147-9089-ffe7f121a269\" type=\"checkbox\" ><label class=\"sk-toggleable__label\" for=\"fc542019-b842-4147-9089-ffe7f121a269\">OneHotEncoder</label><div class=\"sk-toggleable__content\"><pre>OneHotEncoder(handle_unknown='ignore')</pre></div></div></div></div></div></div></div></div><div class=\"sk-parallel-item\"><div class=\"sk-item\"><div class=\"sk-label-container\"><div class=\"sk-label sk-toggleable\"><input class=\"sk-toggleable__control sk-hidden--visually\" id=\"c2e58ae0-e142-4b48-8a99-2f6b70ada70c\" type=\"checkbox\" ><label class=\"sk-toggleable__label\" for=\"c2e58ae0-e142-4b48-8a99-2f6b70ada70c\">num_pipe</label><div class=\"sk-toggleable__content\"><pre>['LotArea', 'OverallQual', 'OverallCond', 'YearBuilt', 'YearRemodAdd', 'MasVnrArea', 'BsmtFinSF1', 'BsmtFinSF2', 'BsmtUnfSF', 'TotalBsmtSF', '1stFlrSF', '2ndFlrSF', 'LowQualFinSF', 'GrLivArea', 'BsmtFullBath', 'BsmtHalfBath', 'FullBath', 'HalfBath', 'BedroomAbvGr', 'KitchenAbvGr', 'TotRmsAbvGrd', 'Fireplaces', 'GarageYrBlt', 'GarageCars', 'GarageArea', 'WoodDeckSF', 'OpenPorchSF', 'EnclosedPorch', '3SsnPorch', 'ScreenPorch', 'PoolArea', 'MiscVal', 'MoSold', 'YrSold']</pre></div></div></div><div class=\"sk-serial\"><div class=\"sk-item\"><div class=\"sk-serial\"><div class=\"sk-item\"><div class=\"sk-estimator sk-toggleable\"><input class=\"sk-toggleable__control sk-hidden--visually\" id=\"a91f6092-3a33-428f-a956-c171ff5291e8\" type=\"checkbox\" ><label class=\"sk-toggleable__label\" for=\"a91f6092-3a33-428f-a956-c171ff5291e8\">SimpleImputer</label><div class=\"sk-toggleable__content\"><pre>SimpleImputer(fill_value=0, strategy='constant')</pre></div></div></div><div class=\"sk-item\"><div class=\"sk-estimator sk-toggleable\"><input class=\"sk-toggleable__control sk-hidden--visually\" id=\"4bb0f03e-5eca-4aa6-b7be-52799b935955\" type=\"checkbox\" ><label class=\"sk-toggleable__label\" for=\"4bb0f03e-5eca-4aa6-b7be-52799b935955\">MinMaxScaler</label><div class=\"sk-toggleable__content\"><pre>MinMaxScaler()</pre></div></div></div></div></div></div></div></div><div class=\"sk-parallel-item\"><div class=\"sk-item\"><div class=\"sk-label-container\"><div class=\"sk-label sk-toggleable\"><input class=\"sk-toggleable__control sk-hidden--visually\" id=\"c56d6d9f-820e-49a1-b4c2-f8a29cf2514b\" type=\"checkbox\" ><label class=\"sk-toggleable__label\" for=\"c56d6d9f-820e-49a1-b4c2-f8a29cf2514b\">ordinal_pipe</label><div class=\"sk-toggleable__content\"><pre>['LotShape', 'Utilities', 'LandSlope', 'Neighborhood', 'ExterQual', 'ExterCond', 'BsmtQual', 'BsmtCond', 'BsmtExposure', 'BsmtFinType1', 'BsmtFinType2', 'HeatingQC', 'CentralAir', 'KitchenQual', 'FireplaceQu', 'GarageFinish', 'GarageQual', 'GarageCond', 'PavedDrive', 'PoolQC', 'Fence']</pre></div></div></div><div class=\"sk-serial\"><div class=\"sk-item\"><div class=\"sk-serial\"><div class=\"sk-item\"><div class=\"sk-estimator sk-toggleable\"><input class=\"sk-toggleable__control sk-hidden--visually\" id=\"bbb91031-01cc-4dc8-91b5-e26063913ed9\" type=\"checkbox\" ><label class=\"sk-toggleable__label\" for=\"bbb91031-01cc-4dc8-91b5-e26063913ed9\">SimpleImputer</label><div class=\"sk-toggleable__content\"><pre>SimpleImputer(fill_value='Missing', strategy='constant')</pre></div></div></div><div class=\"sk-item\"><div class=\"sk-estimator sk-toggleable\"><input class=\"sk-toggleable__control sk-hidden--visually\" id=\"df45bfe2-496d-416e-bed2-3d4f392d5b98\" type=\"checkbox\" ><label class=\"sk-toggleable__label\" for=\"df45bfe2-496d-416e-bed2-3d4f392d5b98\">OrdinalEncoder</label><div class=\"sk-toggleable__content\"><pre>OrdinalEncoder(categories=[['IR3', 'IR2', 'IR1', 'Reg'],\n",
       "                           ['ELO', 'NoSeWa', 'NoSewr', 'AllPub'],\n",
       "                           ['Sev', 'Mod', 'Gtl'],\n",
       "                           ['MeadowV', 'IDOTRR', 'BrDale', 'BrkSide', 'Edwards',\n",
       "                            'OldTown', 'Sawyer', 'Blueste', 'SWISU', 'NPkVill',\n",
       "                            'NAmes', 'Mitchel', 'SawyerW', 'NWAmes', 'Gilbert',\n",
       "                            'Blmngtn', 'CollgCr', 'Crawfor', 'ClearCr',\n",
       "                            'Somerst', 'Veenker', 'Timber', 'StoneBr',\n",
       "                            'NridgHt', 'NoRidge']...\n",
       "                            'GLQ'],\n",
       "                           ['Po', 'Fa', 'TA', 'Gd', 'Ex'], ['N', 'Y'],\n",
       "                           ['Po', 'Fa', 'TA', 'Gd', 'Ex'],\n",
       "                           ['Missing', 'Po', 'Fa', 'TA', 'Gd', 'Ex'],\n",
       "                           ['Missing', 'Unf', 'RFn', 'Fin'],\n",
       "                           ['Missing', 'Po', 'Fa', 'TA', 'Gd', 'Ex'],\n",
       "                           ['Missing', 'Po', 'Fa', 'TA', 'Gd', 'Ex'],\n",
       "                           ['N', 'P', 'Y'], ['Missing', 'Fa', 'TA', 'Gd', 'Ex'],\n",
       "                           ['Missing', 'MnWw', 'GdWo', 'MnPrv', 'GdPrv']],\n",
       "               handle_unknown='use_encoded_value', unknown_value=-999)</pre></div></div></div></div></div></div></div></div></div></div><div class=\"sk-item\"><div class=\"sk-estimator sk-toggleable\"><input class=\"sk-toggleable__control sk-hidden--visually\" id=\"9abd5fa7-c599-4166-a821-a6bfbeb3a6e6\" type=\"checkbox\" ><label class=\"sk-toggleable__label\" for=\"9abd5fa7-c599-4166-a821-a6bfbeb3a6e6\">Ridge</label><div class=\"sk-toggleable__content\"><pre>Ridge()</pre></div></div></div></div></div></div></div>"
      ],
      "text/plain": [
       "Pipeline(steps=[('prepro',\n",
       "                 ColumnTransformer(transformers=[('ohe_pipe',\n",
       "                                                  Pipeline(steps=[('ohe_imputer',\n",
       "                                                                   SimpleImputer(fill_value='Missing',\n",
       "                                                                                 strategy='constant')),\n",
       "                                                                  ('ohe_encoder',\n",
       "                                                                   OneHotEncoder(handle_unknown='ignore'))]),\n",
       "                                                  ['MSSubClass', 'MSZoning',\n",
       "                                                   'Street', 'Alley',\n",
       "                                                   'LandContour', 'LotConfig',\n",
       "                                                   'Condition1', 'Condition2',\n",
       "                                                   'BldgType', 'HouseStyle',\n",
       "                                                   'RoofStyle', 'Roof...\n",
       "                                                                                  handle_unknown='use_encoded_value',\n",
       "                                                                                  unknown_value=-999))]),\n",
       "                                                  ['LotShape', 'Utilities',\n",
       "                                                   'LandSlope', 'Neighborhood',\n",
       "                                                   'ExterQual', 'ExterCond',\n",
       "                                                   'BsmtQual', 'BsmtCond',\n",
       "                                                   'BsmtExposure',\n",
       "                                                   'BsmtFinType1',\n",
       "                                                   'BsmtFinType2', 'HeatingQC',\n",
       "                                                   'CentralAir', 'KitchenQual',\n",
       "                                                   'FireplaceQu',\n",
       "                                                   'GarageFinish', 'GarageQual',\n",
       "                                                   'GarageCond', 'PavedDrive',\n",
       "                                                   'PoolQC', 'Fence'])])),\n",
       "                ('model_ridge', Ridge())])"
      ]
     },
     "execution_count": 46,
     "metadata": {},
     "output_type": "execute_result"
    }
   ],
   "source": [
    "pipe_ridge.fit(X_train, y_train)"
   ]
  },
  {
   "cell_type": "code",
   "execution_count": 48,
   "metadata": {},
   "outputs": [
    {
     "data": {
      "text/plain": [
       "array([-0.12196351, -0.11388988, -0.13571353, -0.15703203, -0.11267503])"
      ]
     },
     "execution_count": 48,
     "metadata": {},
     "output_type": "execute_result"
    }
   ],
   "source": [
    "cross_val_score(pipe_ridge, X_train, y_train, scoring=classic_rmse)"
   ]
  },
  {
   "cell_type": "code",
   "execution_count": 52,
   "metadata": {},
   "outputs": [],
   "source": [
    "y_pred = pipe_ridge.predict(X_val)"
   ]
  },
  {
   "cell_type": "code",
   "execution_count": 53,
   "metadata": {},
   "outputs": [
    {
     "data": {
      "text/plain": [
       "0.12508814703906207"
      ]
     },
     "execution_count": 53,
     "metadata": {},
     "output_type": "execute_result"
    }
   ],
   "source": [
    "custom_score(y_val, y_pred)"
   ]
  },
  {
   "cell_type": "markdown",
   "metadata": {},
   "source": [
    "## Optimisation du modèle Ridge :\n",
    "Randomized Search + Grid Search\n",
    "<br>Ensemble"
   ]
  },
  {
   "cell_type": "code",
   "execution_count": 64,
   "metadata": {},
   "outputs": [
    {
     "data": {
      "text/plain": [
       "dict_keys(['memory', 'steps', 'verbose', 'prepro', 'model_ridge', 'prepro__n_jobs', 'prepro__remainder', 'prepro__sparse_threshold', 'prepro__transformer_weights', 'prepro__transformers', 'prepro__verbose', 'prepro__ohe_pipe', 'prepro__num_pipe', 'prepro__ordinal_pipe', 'prepro__ohe_pipe__memory', 'prepro__ohe_pipe__steps', 'prepro__ohe_pipe__verbose', 'prepro__ohe_pipe__ohe_imputer', 'prepro__ohe_pipe__ohe_encoder', 'prepro__ohe_pipe__ohe_imputer__add_indicator', 'prepro__ohe_pipe__ohe_imputer__copy', 'prepro__ohe_pipe__ohe_imputer__fill_value', 'prepro__ohe_pipe__ohe_imputer__missing_values', 'prepro__ohe_pipe__ohe_imputer__strategy', 'prepro__ohe_pipe__ohe_imputer__verbose', 'prepro__ohe_pipe__ohe_encoder__categories', 'prepro__ohe_pipe__ohe_encoder__drop', 'prepro__ohe_pipe__ohe_encoder__dtype', 'prepro__ohe_pipe__ohe_encoder__handle_unknown', 'prepro__ohe_pipe__ohe_encoder__sparse', 'prepro__num_pipe__memory', 'prepro__num_pipe__steps', 'prepro__num_pipe__verbose', 'prepro__num_pipe__num_imputer', 'prepro__num_pipe__num_scaler', 'prepro__num_pipe__num_imputer__add_indicator', 'prepro__num_pipe__num_imputer__copy', 'prepro__num_pipe__num_imputer__fill_value', 'prepro__num_pipe__num_imputer__missing_values', 'prepro__num_pipe__num_imputer__strategy', 'prepro__num_pipe__num_imputer__verbose', 'prepro__num_pipe__num_scaler__clip', 'prepro__num_pipe__num_scaler__copy', 'prepro__num_pipe__num_scaler__feature_range', 'prepro__ordinal_pipe__memory', 'prepro__ordinal_pipe__steps', 'prepro__ordinal_pipe__verbose', 'prepro__ordinal_pipe__ordinal_imputer', 'prepro__ordinal_pipe__ordinal_encoder', 'prepro__ordinal_pipe__ordinal_imputer__add_indicator', 'prepro__ordinal_pipe__ordinal_imputer__copy', 'prepro__ordinal_pipe__ordinal_imputer__fill_value', 'prepro__ordinal_pipe__ordinal_imputer__missing_values', 'prepro__ordinal_pipe__ordinal_imputer__strategy', 'prepro__ordinal_pipe__ordinal_imputer__verbose', 'prepro__ordinal_pipe__ordinal_encoder__categories', 'prepro__ordinal_pipe__ordinal_encoder__dtype', 'prepro__ordinal_pipe__ordinal_encoder__handle_unknown', 'prepro__ordinal_pipe__ordinal_encoder__unknown_value', 'model_ridge__alpha', 'model_ridge__copy_X', 'model_ridge__fit_intercept', 'model_ridge__max_iter', 'model_ridge__normalize', 'model_ridge__random_state', 'model_ridge__solver', 'model_ridge__tol'])"
      ]
     },
     "execution_count": 64,
     "metadata": {},
     "output_type": "execute_result"
    }
   ],
   "source": [
    "pipe_ridge.get_params().keys()"
   ]
  },
  {
   "cell_type": "code",
   "execution_count": 70,
   "metadata": {},
   "outputs": [
    {
     "data": {
      "text/html": [
       "<style>#sk-0c32175e-016d-4b21-b4e9-f7cb1ad92cb4 {color: black;background-color: white;}#sk-0c32175e-016d-4b21-b4e9-f7cb1ad92cb4 pre{padding: 0;}#sk-0c32175e-016d-4b21-b4e9-f7cb1ad92cb4 div.sk-toggleable {background-color: white;}#sk-0c32175e-016d-4b21-b4e9-f7cb1ad92cb4 label.sk-toggleable__label {cursor: pointer;display: block;width: 100%;margin-bottom: 0;padding: 0.2em 0.3em;box-sizing: border-box;text-align: center;}#sk-0c32175e-016d-4b21-b4e9-f7cb1ad92cb4 div.sk-toggleable__content {max-height: 0;max-width: 0;overflow: hidden;text-align: left;background-color: #f0f8ff;}#sk-0c32175e-016d-4b21-b4e9-f7cb1ad92cb4 div.sk-toggleable__content pre {margin: 0.2em;color: black;border-radius: 0.25em;background-color: #f0f8ff;}#sk-0c32175e-016d-4b21-b4e9-f7cb1ad92cb4 input.sk-toggleable__control:checked~div.sk-toggleable__content {max-height: 200px;max-width: 100%;overflow: auto;}#sk-0c32175e-016d-4b21-b4e9-f7cb1ad92cb4 div.sk-estimator input.sk-toggleable__control:checked~label.sk-toggleable__label {background-color: #d4ebff;}#sk-0c32175e-016d-4b21-b4e9-f7cb1ad92cb4 div.sk-label input.sk-toggleable__control:checked~label.sk-toggleable__label {background-color: #d4ebff;}#sk-0c32175e-016d-4b21-b4e9-f7cb1ad92cb4 input.sk-hidden--visually {border: 0;clip: rect(1px 1px 1px 1px);clip: rect(1px, 1px, 1px, 1px);height: 1px;margin: -1px;overflow: hidden;padding: 0;position: absolute;width: 1px;}#sk-0c32175e-016d-4b21-b4e9-f7cb1ad92cb4 div.sk-estimator {font-family: monospace;background-color: #f0f8ff;margin: 0.25em 0.25em;border: 1px dotted black;border-radius: 0.25em;box-sizing: border-box;}#sk-0c32175e-016d-4b21-b4e9-f7cb1ad92cb4 div.sk-estimator:hover {background-color: #d4ebff;}#sk-0c32175e-016d-4b21-b4e9-f7cb1ad92cb4 div.sk-parallel-item::after {content: \"\";width: 100%;border-bottom: 1px solid gray;flex-grow: 1;}#sk-0c32175e-016d-4b21-b4e9-f7cb1ad92cb4 div.sk-label:hover label.sk-toggleable__label {background-color: #d4ebff;}#sk-0c32175e-016d-4b21-b4e9-f7cb1ad92cb4 div.sk-serial::before {content: \"\";position: absolute;border-left: 1px solid gray;box-sizing: border-box;top: 2em;bottom: 0;left: 50%;}#sk-0c32175e-016d-4b21-b4e9-f7cb1ad92cb4 div.sk-serial {display: flex;flex-direction: column;align-items: center;background-color: white;}#sk-0c32175e-016d-4b21-b4e9-f7cb1ad92cb4 div.sk-item {z-index: 1;}#sk-0c32175e-016d-4b21-b4e9-f7cb1ad92cb4 div.sk-parallel {display: flex;align-items: stretch;justify-content: center;background-color: white;}#sk-0c32175e-016d-4b21-b4e9-f7cb1ad92cb4 div.sk-parallel-item {display: flex;flex-direction: column;position: relative;background-color: white;}#sk-0c32175e-016d-4b21-b4e9-f7cb1ad92cb4 div.sk-parallel-item:first-child::after {align-self: flex-end;width: 50%;}#sk-0c32175e-016d-4b21-b4e9-f7cb1ad92cb4 div.sk-parallel-item:last-child::after {align-self: flex-start;width: 50%;}#sk-0c32175e-016d-4b21-b4e9-f7cb1ad92cb4 div.sk-parallel-item:only-child::after {width: 0;}#sk-0c32175e-016d-4b21-b4e9-f7cb1ad92cb4 div.sk-dashed-wrapped {border: 1px dashed gray;margin: 0.2em;box-sizing: border-box;padding-bottom: 0.1em;background-color: white;position: relative;}#sk-0c32175e-016d-4b21-b4e9-f7cb1ad92cb4 div.sk-label label {font-family: monospace;font-weight: bold;background-color: white;display: inline-block;line-height: 1.2em;}#sk-0c32175e-016d-4b21-b4e9-f7cb1ad92cb4 div.sk-label-container {position: relative;z-index: 2;text-align: center;}#sk-0c32175e-016d-4b21-b4e9-f7cb1ad92cb4 div.sk-container {display: inline-block;position: relative;}</style><div id=\"sk-0c32175e-016d-4b21-b4e9-f7cb1ad92cb4\" class\"sk-top-container\"><div class=\"sk-container\"><div class=\"sk-item sk-dashed-wrapped\"><div class=\"sk-label-container\"><div class=\"sk-label sk-toggleable\"><input class=\"sk-toggleable__control sk-hidden--visually\" id=\"478ea412-aad5-4cd5-a450-826b56768dac\" type=\"checkbox\" ><label class=\"sk-toggleable__label\" for=\"478ea412-aad5-4cd5-a450-826b56768dac\">RandomizedSearchCV</label><div class=\"sk-toggleable__content\"><pre>RandomizedSearchCV(estimator=Pipeline(steps=[('prepro',\n",
       "                                              ColumnTransformer(transformers=[('ohe_pipe',\n",
       "                                                                               Pipeline(steps=[('ohe_imputer',\n",
       "                                                                                                SimpleImputer(fill_value='Missing',\n",
       "                                                                                                              strategy='constant')),\n",
       "                                                                                               ('ohe_encoder',\n",
       "                                                                                                OneHotEncoder(handle_unknown='ignore'))]),\n",
       "                                                                               ['MSSubClass',\n",
       "                                                                                'MSZoning',\n",
       "                                                                                'Street',\n",
       "                                                                                'Alley',\n",
       "                                                                                'LandContour',\n",
       "                                                                                'LotConfig',\n",
       "                                                                                'Condition1',\n",
       "                                                                                'Condition2',\n",
       "                                                                                'BldgType',\n",
       "                                                                                '...\n",
       "       5600, 5700, 5800, 5900, 6000, 6100, 6200, 6300, 6400, 6500, 6600,\n",
       "       6700, 6800, 6900, 7000, 7100, 7200, 7300, 7400, 7500, 7600, 7700,\n",
       "       7800, 7900, 8000, 8100, 8200, 8300, 8400, 8500, 8600, 8700, 8800,\n",
       "       8900, 9000, 9100, 9200, 9300, 9400, 9500, 9600, 9700, 9800, 9900]),\n",
       "                                        'model_ridge__solver': ['auto', 'svd',\n",
       "                                                                'cholesky',\n",
       "                                                                'lsqr',\n",
       "                                                                'sparse_cg',\n",
       "                                                                'sag',\n",
       "                                                                'saga']},\n",
       "                   random_state=0,\n",
       "                   scoring=make_scorer(custom_score, greater_is_better=False))</pre></div></div></div><div class=\"sk-parallel\"><div class=\"sk-parallel-item\"><div class=\"sk-item\"><div class=\"sk-serial\"><div class=\"sk-item\"><div class=\"sk-serial\"><div class=\"sk-item sk-dashed-wrapped\"><div class=\"sk-label-container\"><div class=\"sk-label sk-toggleable\"><input class=\"sk-toggleable__control sk-hidden--visually\" id=\"f5792d76-7c4a-4aa5-a39a-71037d3eca06\" type=\"checkbox\" ><label class=\"sk-toggleable__label\" for=\"f5792d76-7c4a-4aa5-a39a-71037d3eca06\">prepro: ColumnTransformer</label><div class=\"sk-toggleable__content\"><pre>ColumnTransformer(transformers=[('ohe_pipe',\n",
       "                                 Pipeline(steps=[('ohe_imputer',\n",
       "                                                  SimpleImputer(fill_value='Missing',\n",
       "                                                                strategy='constant')),\n",
       "                                                 ('ohe_encoder',\n",
       "                                                  OneHotEncoder(handle_unknown='ignore'))]),\n",
       "                                 ['MSSubClass', 'MSZoning', 'Street', 'Alley',\n",
       "                                  'LandContour', 'LotConfig', 'Condition1',\n",
       "                                  'Condition2', 'BldgType', 'HouseStyle',\n",
       "                                  'RoofStyle', 'RoofMatl', 'Exterior1st',\n",
       "                                  'Exter...\n",
       "                                                                              'GdWo',\n",
       "                                                                              'MnPrv',\n",
       "                                                                              'GdPrv']],\n",
       "                                                                 handle_unknown='use_encoded_value',\n",
       "                                                                 unknown_value=-999))]),\n",
       "                                 ['LotShape', 'Utilities', 'LandSlope',\n",
       "                                  'Neighborhood', 'ExterQual', 'ExterCond',\n",
       "                                  'BsmtQual', 'BsmtCond', 'BsmtExposure',\n",
       "                                  'BsmtFinType1', 'BsmtFinType2', 'HeatingQC',\n",
       "                                  'CentralAir', 'KitchenQual', 'FireplaceQu',\n",
       "                                  'GarageFinish', 'GarageQual', 'GarageCond',\n",
       "                                  'PavedDrive', 'PoolQC', 'Fence'])])</pre></div></div></div><div class=\"sk-parallel\"><div class=\"sk-parallel-item\"><div class=\"sk-item\"><div class=\"sk-label-container\"><div class=\"sk-label sk-toggleable\"><input class=\"sk-toggleable__control sk-hidden--visually\" id=\"75747c64-8911-456b-a7a3-8c8c85c159ef\" type=\"checkbox\" ><label class=\"sk-toggleable__label\" for=\"75747c64-8911-456b-a7a3-8c8c85c159ef\">ohe_pipe</label><div class=\"sk-toggleable__content\"><pre>['MSSubClass', 'MSZoning', 'Street', 'Alley', 'LandContour', 'LotConfig', 'Condition1', 'Condition2', 'BldgType', 'HouseStyle', 'RoofStyle', 'RoofMatl', 'Exterior1st', 'Exterior2nd', 'MasVnrType', 'Foundation', 'Heating', 'Electrical', 'Functional', 'GarageType', 'MiscFeature', 'SaleType', 'SaleCondition']</pre></div></div></div><div class=\"sk-serial\"><div class=\"sk-item\"><div class=\"sk-serial\"><div class=\"sk-item\"><div class=\"sk-estimator sk-toggleable\"><input class=\"sk-toggleable__control sk-hidden--visually\" id=\"c561ee9c-d9dd-432b-bd1a-c4a1c0f98ee1\" type=\"checkbox\" ><label class=\"sk-toggleable__label\" for=\"c561ee9c-d9dd-432b-bd1a-c4a1c0f98ee1\">SimpleImputer</label><div class=\"sk-toggleable__content\"><pre>SimpleImputer(fill_value='Missing', strategy='constant')</pre></div></div></div><div class=\"sk-item\"><div class=\"sk-estimator sk-toggleable\"><input class=\"sk-toggleable__control sk-hidden--visually\" id=\"c52b6829-5773-49fd-8104-bfb1773a3d72\" type=\"checkbox\" ><label class=\"sk-toggleable__label\" for=\"c52b6829-5773-49fd-8104-bfb1773a3d72\">OneHotEncoder</label><div class=\"sk-toggleable__content\"><pre>OneHotEncoder(handle_unknown='ignore')</pre></div></div></div></div></div></div></div></div><div class=\"sk-parallel-item\"><div class=\"sk-item\"><div class=\"sk-label-container\"><div class=\"sk-label sk-toggleable\"><input class=\"sk-toggleable__control sk-hidden--visually\" id=\"e4a9f15b-0d2c-4534-8cda-7eeedd705296\" type=\"checkbox\" ><label class=\"sk-toggleable__label\" for=\"e4a9f15b-0d2c-4534-8cda-7eeedd705296\">num_pipe</label><div class=\"sk-toggleable__content\"><pre>['LotArea', 'OverallQual', 'OverallCond', 'YearBuilt', 'YearRemodAdd', 'MasVnrArea', 'BsmtFinSF1', 'BsmtFinSF2', 'BsmtUnfSF', 'TotalBsmtSF', '1stFlrSF', '2ndFlrSF', 'LowQualFinSF', 'GrLivArea', 'BsmtFullBath', 'BsmtHalfBath', 'FullBath', 'HalfBath', 'BedroomAbvGr', 'KitchenAbvGr', 'TotRmsAbvGrd', 'Fireplaces', 'GarageYrBlt', 'GarageCars', 'GarageArea', 'WoodDeckSF', 'OpenPorchSF', 'EnclosedPorch', '3SsnPorch', 'ScreenPorch', 'PoolArea', 'MiscVal', 'MoSold', 'YrSold']</pre></div></div></div><div class=\"sk-serial\"><div class=\"sk-item\"><div class=\"sk-serial\"><div class=\"sk-item\"><div class=\"sk-estimator sk-toggleable\"><input class=\"sk-toggleable__control sk-hidden--visually\" id=\"b0f31f93-fa6c-49cf-86e9-fc9dfa71290e\" type=\"checkbox\" ><label class=\"sk-toggleable__label\" for=\"b0f31f93-fa6c-49cf-86e9-fc9dfa71290e\">SimpleImputer</label><div class=\"sk-toggleable__content\"><pre>SimpleImputer(fill_value=0, strategy='constant')</pre></div></div></div><div class=\"sk-item\"><div class=\"sk-estimator sk-toggleable\"><input class=\"sk-toggleable__control sk-hidden--visually\" id=\"1353d117-e183-4eb1-9c51-10574bb7fa51\" type=\"checkbox\" ><label class=\"sk-toggleable__label\" for=\"1353d117-e183-4eb1-9c51-10574bb7fa51\">MinMaxScaler</label><div class=\"sk-toggleable__content\"><pre>MinMaxScaler()</pre></div></div></div></div></div></div></div></div><div class=\"sk-parallel-item\"><div class=\"sk-item\"><div class=\"sk-label-container\"><div class=\"sk-label sk-toggleable\"><input class=\"sk-toggleable__control sk-hidden--visually\" id=\"b7b98bb3-2697-4942-871f-8c98597380c1\" type=\"checkbox\" ><label class=\"sk-toggleable__label\" for=\"b7b98bb3-2697-4942-871f-8c98597380c1\">ordinal_pipe</label><div class=\"sk-toggleable__content\"><pre>['LotShape', 'Utilities', 'LandSlope', 'Neighborhood', 'ExterQual', 'ExterCond', 'BsmtQual', 'BsmtCond', 'BsmtExposure', 'BsmtFinType1', 'BsmtFinType2', 'HeatingQC', 'CentralAir', 'KitchenQual', 'FireplaceQu', 'GarageFinish', 'GarageQual', 'GarageCond', 'PavedDrive', 'PoolQC', 'Fence']</pre></div></div></div><div class=\"sk-serial\"><div class=\"sk-item\"><div class=\"sk-serial\"><div class=\"sk-item\"><div class=\"sk-estimator sk-toggleable\"><input class=\"sk-toggleable__control sk-hidden--visually\" id=\"b37550c8-6504-437c-9246-110a4ffa1ca2\" type=\"checkbox\" ><label class=\"sk-toggleable__label\" for=\"b37550c8-6504-437c-9246-110a4ffa1ca2\">SimpleImputer</label><div class=\"sk-toggleable__content\"><pre>SimpleImputer(fill_value='Missing', strategy='constant')</pre></div></div></div><div class=\"sk-item\"><div class=\"sk-estimator sk-toggleable\"><input class=\"sk-toggleable__control sk-hidden--visually\" id=\"914a1f43-49cf-4fbf-a1b7-0a487d5224cd\" type=\"checkbox\" ><label class=\"sk-toggleable__label\" for=\"914a1f43-49cf-4fbf-a1b7-0a487d5224cd\">OrdinalEncoder</label><div class=\"sk-toggleable__content\"><pre>OrdinalEncoder(categories=[['IR3', 'IR2', 'IR1', 'Reg'],\n",
       "                           ['ELO', 'NoSeWa', 'NoSewr', 'AllPub'],\n",
       "                           ['Sev', 'Mod', 'Gtl'],\n",
       "                           ['MeadowV', 'IDOTRR', 'BrDale', 'BrkSide', 'Edwards',\n",
       "                            'OldTown', 'Sawyer', 'Blueste', 'SWISU', 'NPkVill',\n",
       "                            'NAmes', 'Mitchel', 'SawyerW', 'NWAmes', 'Gilbert',\n",
       "                            'Blmngtn', 'CollgCr', 'Crawfor', 'ClearCr',\n",
       "                            'Somerst', 'Veenker', 'Timber', 'StoneBr',\n",
       "                            'NridgHt', 'NoRidge']...\n",
       "                            'GLQ'],\n",
       "                           ['Po', 'Fa', 'TA', 'Gd', 'Ex'], ['N', 'Y'],\n",
       "                           ['Po', 'Fa', 'TA', 'Gd', 'Ex'],\n",
       "                           ['Missing', 'Po', 'Fa', 'TA', 'Gd', 'Ex'],\n",
       "                           ['Missing', 'Unf', 'RFn', 'Fin'],\n",
       "                           ['Missing', 'Po', 'Fa', 'TA', 'Gd', 'Ex'],\n",
       "                           ['Missing', 'Po', 'Fa', 'TA', 'Gd', 'Ex'],\n",
       "                           ['N', 'P', 'Y'], ['Missing', 'Fa', 'TA', 'Gd', 'Ex'],\n",
       "                           ['Missing', 'MnWw', 'GdWo', 'MnPrv', 'GdPrv']],\n",
       "               handle_unknown='use_encoded_value', unknown_value=-999)</pre></div></div></div></div></div></div></div></div></div></div><div class=\"sk-item\"><div class=\"sk-estimator sk-toggleable\"><input class=\"sk-toggleable__control sk-hidden--visually\" id=\"7c9bf7ff-0730-4e36-a448-67ee314f84df\" type=\"checkbox\" ><label class=\"sk-toggleable__label\" for=\"7c9bf7ff-0730-4e36-a448-67ee314f84df\">Ridge</label><div class=\"sk-toggleable__content\"><pre>Ridge()</pre></div></div></div></div></div></div></div></div></div></div></div></div>"
      ],
      "text/plain": [
       "RandomizedSearchCV(estimator=Pipeline(steps=[('prepro',\n",
       "                                              ColumnTransformer(transformers=[('ohe_pipe',\n",
       "                                                                               Pipeline(steps=[('ohe_imputer',\n",
       "                                                                                                SimpleImputer(fill_value='Missing',\n",
       "                                                                                                              strategy='constant')),\n",
       "                                                                                               ('ohe_encoder',\n",
       "                                                                                                OneHotEncoder(handle_unknown='ignore'))]),\n",
       "                                                                               ['MSSubClass',\n",
       "                                                                                'MSZoning',\n",
       "                                                                                'Street',\n",
       "                                                                                'Alley',\n",
       "                                                                                'LandContour',\n",
       "                                                                                'LotConfig',\n",
       "                                                                                'Condition1',\n",
       "                                                                                'Condition2',\n",
       "                                                                                'BldgType',\n",
       "                                                                                '...\n",
       "       5600, 5700, 5800, 5900, 6000, 6100, 6200, 6300, 6400, 6500, 6600,\n",
       "       6700, 6800, 6900, 7000, 7100, 7200, 7300, 7400, 7500, 7600, 7700,\n",
       "       7800, 7900, 8000, 8100, 8200, 8300, 8400, 8500, 8600, 8700, 8800,\n",
       "       8900, 9000, 9100, 9200, 9300, 9400, 9500, 9600, 9700, 9800, 9900]),\n",
       "                                        'model_ridge__solver': ['auto', 'svd',\n",
       "                                                                'cholesky',\n",
       "                                                                'lsqr',\n",
       "                                                                'sparse_cg',\n",
       "                                                                'sag',\n",
       "                                                                'saga']},\n",
       "                   random_state=0,\n",
       "                   scoring=make_scorer(custom_score, greater_is_better=False))"
      ]
     },
     "execution_count": 70,
     "metadata": {},
     "output_type": "execute_result"
    }
   ],
   "source": [
    "from sklearn.model_selection import RandomizedSearchCV\n",
    "distributions_ridge = dict(model_ridge__solver = [\"auto\", \"svd\", \"cholesky\", \"lsqr\", \"sparse_cg\", \"sag\", \"saga\"], model_ridge__max_iter = np.arange(100, 10000, 100), model_ridge__alpha = np.linspace(0,1))\n",
    "\n",
    "ridge_search = RandomizedSearchCV(pipe_ridge, distributions_ridge, random_state=0, scoring=classic_rmse)\n",
    "ridge_search.fit(X_train, y_train)\n",
    "\n"
   ]
  },
  {
   "cell_type": "code",
   "execution_count": 75,
   "metadata": {},
   "outputs": [
    {
     "name": "stdout",
     "output_type": "stream",
     "text": [
      "Best Score : -0.12843732904810506\n",
      "Best Parameters : {'model_ridge__solver': 'cholesky', 'model_ridge__max_iter': 5100, 'model_ridge__alpha': 0.9387755102040816}\n"
     ]
    }
   ],
   "source": [
    "print(f\"Best Score : {ridge_search.best_score_}\")\n",
    "print(f\"Best Parameters : {ridge_search.best_params_}\")"
   ]
  },
  {
   "cell_type": "markdown",
   "metadata": {},
   "source": [
    "# SVR"
   ]
  },
  {
   "cell_type": "markdown",
   "metadata": {},
   "source": [
    "## Entrainement et prédiction avec split"
   ]
  },
  {
   "cell_type": "code",
   "execution_count": 76,
   "metadata": {},
   "outputs": [],
   "source": [
    "X_train, X_val, y_train, y_val = train_test_split(X, y, test_size = 0.2, random_state = 0)"
   ]
  },
  {
   "cell_type": "code",
   "execution_count": 78,
   "metadata": {},
   "outputs": [
    {
     "data": {
      "text/html": [
       "<style>#sk-1a928d01-96ee-4e57-81f1-28334a9f77e1 {color: black;background-color: white;}#sk-1a928d01-96ee-4e57-81f1-28334a9f77e1 pre{padding: 0;}#sk-1a928d01-96ee-4e57-81f1-28334a9f77e1 div.sk-toggleable {background-color: white;}#sk-1a928d01-96ee-4e57-81f1-28334a9f77e1 label.sk-toggleable__label {cursor: pointer;display: block;width: 100%;margin-bottom: 0;padding: 0.2em 0.3em;box-sizing: border-box;text-align: center;}#sk-1a928d01-96ee-4e57-81f1-28334a9f77e1 div.sk-toggleable__content {max-height: 0;max-width: 0;overflow: hidden;text-align: left;background-color: #f0f8ff;}#sk-1a928d01-96ee-4e57-81f1-28334a9f77e1 div.sk-toggleable__content pre {margin: 0.2em;color: black;border-radius: 0.25em;background-color: #f0f8ff;}#sk-1a928d01-96ee-4e57-81f1-28334a9f77e1 input.sk-toggleable__control:checked~div.sk-toggleable__content {max-height: 200px;max-width: 100%;overflow: auto;}#sk-1a928d01-96ee-4e57-81f1-28334a9f77e1 div.sk-estimator input.sk-toggleable__control:checked~label.sk-toggleable__label {background-color: #d4ebff;}#sk-1a928d01-96ee-4e57-81f1-28334a9f77e1 div.sk-label input.sk-toggleable__control:checked~label.sk-toggleable__label {background-color: #d4ebff;}#sk-1a928d01-96ee-4e57-81f1-28334a9f77e1 input.sk-hidden--visually {border: 0;clip: rect(1px 1px 1px 1px);clip: rect(1px, 1px, 1px, 1px);height: 1px;margin: -1px;overflow: hidden;padding: 0;position: absolute;width: 1px;}#sk-1a928d01-96ee-4e57-81f1-28334a9f77e1 div.sk-estimator {font-family: monospace;background-color: #f0f8ff;margin: 0.25em 0.25em;border: 1px dotted black;border-radius: 0.25em;box-sizing: border-box;}#sk-1a928d01-96ee-4e57-81f1-28334a9f77e1 div.sk-estimator:hover {background-color: #d4ebff;}#sk-1a928d01-96ee-4e57-81f1-28334a9f77e1 div.sk-parallel-item::after {content: \"\";width: 100%;border-bottom: 1px solid gray;flex-grow: 1;}#sk-1a928d01-96ee-4e57-81f1-28334a9f77e1 div.sk-label:hover label.sk-toggleable__label {background-color: #d4ebff;}#sk-1a928d01-96ee-4e57-81f1-28334a9f77e1 div.sk-serial::before {content: \"\";position: absolute;border-left: 1px solid gray;box-sizing: border-box;top: 2em;bottom: 0;left: 50%;}#sk-1a928d01-96ee-4e57-81f1-28334a9f77e1 div.sk-serial {display: flex;flex-direction: column;align-items: center;background-color: white;}#sk-1a928d01-96ee-4e57-81f1-28334a9f77e1 div.sk-item {z-index: 1;}#sk-1a928d01-96ee-4e57-81f1-28334a9f77e1 div.sk-parallel {display: flex;align-items: stretch;justify-content: center;background-color: white;}#sk-1a928d01-96ee-4e57-81f1-28334a9f77e1 div.sk-parallel-item {display: flex;flex-direction: column;position: relative;background-color: white;}#sk-1a928d01-96ee-4e57-81f1-28334a9f77e1 div.sk-parallel-item:first-child::after {align-self: flex-end;width: 50%;}#sk-1a928d01-96ee-4e57-81f1-28334a9f77e1 div.sk-parallel-item:last-child::after {align-self: flex-start;width: 50%;}#sk-1a928d01-96ee-4e57-81f1-28334a9f77e1 div.sk-parallel-item:only-child::after {width: 0;}#sk-1a928d01-96ee-4e57-81f1-28334a9f77e1 div.sk-dashed-wrapped {border: 1px dashed gray;margin: 0.2em;box-sizing: border-box;padding-bottom: 0.1em;background-color: white;position: relative;}#sk-1a928d01-96ee-4e57-81f1-28334a9f77e1 div.sk-label label {font-family: monospace;font-weight: bold;background-color: white;display: inline-block;line-height: 1.2em;}#sk-1a928d01-96ee-4e57-81f1-28334a9f77e1 div.sk-label-container {position: relative;z-index: 2;text-align: center;}#sk-1a928d01-96ee-4e57-81f1-28334a9f77e1 div.sk-container {display: inline-block;position: relative;}</style><div id=\"sk-1a928d01-96ee-4e57-81f1-28334a9f77e1\" class\"sk-top-container\"><div class=\"sk-container\"><div class=\"sk-item sk-dashed-wrapped\"><div class=\"sk-label-container\"><div class=\"sk-label sk-toggleable\"><input class=\"sk-toggleable__control sk-hidden--visually\" id=\"668dd023-70c3-46ad-9339-50fd042e7966\" type=\"checkbox\" ><label class=\"sk-toggleable__label\" for=\"668dd023-70c3-46ad-9339-50fd042e7966\">Pipeline</label><div class=\"sk-toggleable__content\"><pre>Pipeline(steps=[('prepro',\n",
       "                 ColumnTransformer(transformers=[('ohe_pipe',\n",
       "                                                  Pipeline(steps=[('ohe_imputer',\n",
       "                                                                   SimpleImputer(fill_value='Missing',\n",
       "                                                                                 strategy='constant')),\n",
       "                                                                  ('ohe_encoder',\n",
       "                                                                   OneHotEncoder(handle_unknown='ignore'))]),\n",
       "                                                  ['MSSubClass', 'MSZoning',\n",
       "                                                   'Street', 'Alley',\n",
       "                                                   'LandContour', 'LotConfig',\n",
       "                                                   'Condition1', 'Condition2',\n",
       "                                                   'BldgType', 'HouseStyle',\n",
       "                                                   'RoofStyle', 'Roof...\n",
       "                                                                                  handle_unknown='use_encoded_value',\n",
       "                                                                                  unknown_value=-999))]),\n",
       "                                                  ['LotShape', 'Utilities',\n",
       "                                                   'LandSlope', 'Neighborhood',\n",
       "                                                   'ExterQual', 'ExterCond',\n",
       "                                                   'BsmtQual', 'BsmtCond',\n",
       "                                                   'BsmtExposure',\n",
       "                                                   'BsmtFinType1',\n",
       "                                                   'BsmtFinType2', 'HeatingQC',\n",
       "                                                   'CentralAir', 'KitchenQual',\n",
       "                                                   'FireplaceQu',\n",
       "                                                   'GarageFinish', 'GarageQual',\n",
       "                                                   'GarageCond', 'PavedDrive',\n",
       "                                                   'PoolQC', 'Fence'])])),\n",
       "                ('model_svr', SVR())])</pre></div></div></div><div class=\"sk-serial\"><div class=\"sk-item sk-dashed-wrapped\"><div class=\"sk-label-container\"><div class=\"sk-label sk-toggleable\"><input class=\"sk-toggleable__control sk-hidden--visually\" id=\"9ef1dded-6067-4206-83dc-9a26193d0e6a\" type=\"checkbox\" ><label class=\"sk-toggleable__label\" for=\"9ef1dded-6067-4206-83dc-9a26193d0e6a\">prepro: ColumnTransformer</label><div class=\"sk-toggleable__content\"><pre>ColumnTransformer(transformers=[('ohe_pipe',\n",
       "                                 Pipeline(steps=[('ohe_imputer',\n",
       "                                                  SimpleImputer(fill_value='Missing',\n",
       "                                                                strategy='constant')),\n",
       "                                                 ('ohe_encoder',\n",
       "                                                  OneHotEncoder(handle_unknown='ignore'))]),\n",
       "                                 ['MSSubClass', 'MSZoning', 'Street', 'Alley',\n",
       "                                  'LandContour', 'LotConfig', 'Condition1',\n",
       "                                  'Condition2', 'BldgType', 'HouseStyle',\n",
       "                                  'RoofStyle', 'RoofMatl', 'Exterior1st',\n",
       "                                  'Exter...\n",
       "                                                                              'GdWo',\n",
       "                                                                              'MnPrv',\n",
       "                                                                              'GdPrv']],\n",
       "                                                                 handle_unknown='use_encoded_value',\n",
       "                                                                 unknown_value=-999))]),\n",
       "                                 ['LotShape', 'Utilities', 'LandSlope',\n",
       "                                  'Neighborhood', 'ExterQual', 'ExterCond',\n",
       "                                  'BsmtQual', 'BsmtCond', 'BsmtExposure',\n",
       "                                  'BsmtFinType1', 'BsmtFinType2', 'HeatingQC',\n",
       "                                  'CentralAir', 'KitchenQual', 'FireplaceQu',\n",
       "                                  'GarageFinish', 'GarageQual', 'GarageCond',\n",
       "                                  'PavedDrive', 'PoolQC', 'Fence'])])</pre></div></div></div><div class=\"sk-parallel\"><div class=\"sk-parallel-item\"><div class=\"sk-item\"><div class=\"sk-label-container\"><div class=\"sk-label sk-toggleable\"><input class=\"sk-toggleable__control sk-hidden--visually\" id=\"638acd1d-3afc-4816-a32e-9fd1ad9defb2\" type=\"checkbox\" ><label class=\"sk-toggleable__label\" for=\"638acd1d-3afc-4816-a32e-9fd1ad9defb2\">ohe_pipe</label><div class=\"sk-toggleable__content\"><pre>['MSSubClass', 'MSZoning', 'Street', 'Alley', 'LandContour', 'LotConfig', 'Condition1', 'Condition2', 'BldgType', 'HouseStyle', 'RoofStyle', 'RoofMatl', 'Exterior1st', 'Exterior2nd', 'MasVnrType', 'Foundation', 'Heating', 'Electrical', 'Functional', 'GarageType', 'MiscFeature', 'SaleType', 'SaleCondition']</pre></div></div></div><div class=\"sk-serial\"><div class=\"sk-item\"><div class=\"sk-serial\"><div class=\"sk-item\"><div class=\"sk-estimator sk-toggleable\"><input class=\"sk-toggleable__control sk-hidden--visually\" id=\"846106a8-7df2-4a51-b91b-5f9e39d36e5f\" type=\"checkbox\" ><label class=\"sk-toggleable__label\" for=\"846106a8-7df2-4a51-b91b-5f9e39d36e5f\">SimpleImputer</label><div class=\"sk-toggleable__content\"><pre>SimpleImputer(fill_value='Missing', strategy='constant')</pre></div></div></div><div class=\"sk-item\"><div class=\"sk-estimator sk-toggleable\"><input class=\"sk-toggleable__control sk-hidden--visually\" id=\"b72822ca-909b-430b-adea-7e086dd3a6fb\" type=\"checkbox\" ><label class=\"sk-toggleable__label\" for=\"b72822ca-909b-430b-adea-7e086dd3a6fb\">OneHotEncoder</label><div class=\"sk-toggleable__content\"><pre>OneHotEncoder(handle_unknown='ignore')</pre></div></div></div></div></div></div></div></div><div class=\"sk-parallel-item\"><div class=\"sk-item\"><div class=\"sk-label-container\"><div class=\"sk-label sk-toggleable\"><input class=\"sk-toggleable__control sk-hidden--visually\" id=\"425e0cb5-fcf1-4d43-88e5-a3c6543f279e\" type=\"checkbox\" ><label class=\"sk-toggleable__label\" for=\"425e0cb5-fcf1-4d43-88e5-a3c6543f279e\">num_pipe</label><div class=\"sk-toggleable__content\"><pre>['LotArea', 'OverallQual', 'OverallCond', 'YearBuilt', 'YearRemodAdd', 'MasVnrArea', 'BsmtFinSF1', 'BsmtFinSF2', 'BsmtUnfSF', 'TotalBsmtSF', '1stFlrSF', '2ndFlrSF', 'LowQualFinSF', 'GrLivArea', 'BsmtFullBath', 'BsmtHalfBath', 'FullBath', 'HalfBath', 'BedroomAbvGr', 'KitchenAbvGr', 'TotRmsAbvGrd', 'Fireplaces', 'GarageYrBlt', 'GarageCars', 'GarageArea', 'WoodDeckSF', 'OpenPorchSF', 'EnclosedPorch', '3SsnPorch', 'ScreenPorch', 'PoolArea', 'MiscVal', 'MoSold', 'YrSold']</pre></div></div></div><div class=\"sk-serial\"><div class=\"sk-item\"><div class=\"sk-serial\"><div class=\"sk-item\"><div class=\"sk-estimator sk-toggleable\"><input class=\"sk-toggleable__control sk-hidden--visually\" id=\"afd65a55-8fe8-4a76-b3ec-10423d07e0d4\" type=\"checkbox\" ><label class=\"sk-toggleable__label\" for=\"afd65a55-8fe8-4a76-b3ec-10423d07e0d4\">SimpleImputer</label><div class=\"sk-toggleable__content\"><pre>SimpleImputer(fill_value=0, strategy='constant')</pre></div></div></div><div class=\"sk-item\"><div class=\"sk-estimator sk-toggleable\"><input class=\"sk-toggleable__control sk-hidden--visually\" id=\"5122f22b-f6f9-4cd5-9d6b-d4bc4095d7b5\" type=\"checkbox\" ><label class=\"sk-toggleable__label\" for=\"5122f22b-f6f9-4cd5-9d6b-d4bc4095d7b5\">MinMaxScaler</label><div class=\"sk-toggleable__content\"><pre>MinMaxScaler()</pre></div></div></div></div></div></div></div></div><div class=\"sk-parallel-item\"><div class=\"sk-item\"><div class=\"sk-label-container\"><div class=\"sk-label sk-toggleable\"><input class=\"sk-toggleable__control sk-hidden--visually\" id=\"10fd7256-dfaa-4c70-b1d0-64a311f20637\" type=\"checkbox\" ><label class=\"sk-toggleable__label\" for=\"10fd7256-dfaa-4c70-b1d0-64a311f20637\">ordinal_pipe</label><div class=\"sk-toggleable__content\"><pre>['LotShape', 'Utilities', 'LandSlope', 'Neighborhood', 'ExterQual', 'ExterCond', 'BsmtQual', 'BsmtCond', 'BsmtExposure', 'BsmtFinType1', 'BsmtFinType2', 'HeatingQC', 'CentralAir', 'KitchenQual', 'FireplaceQu', 'GarageFinish', 'GarageQual', 'GarageCond', 'PavedDrive', 'PoolQC', 'Fence']</pre></div></div></div><div class=\"sk-serial\"><div class=\"sk-item\"><div class=\"sk-serial\"><div class=\"sk-item\"><div class=\"sk-estimator sk-toggleable\"><input class=\"sk-toggleable__control sk-hidden--visually\" id=\"66d52472-731b-4ad1-9904-4a7589d0f09f\" type=\"checkbox\" ><label class=\"sk-toggleable__label\" for=\"66d52472-731b-4ad1-9904-4a7589d0f09f\">SimpleImputer</label><div class=\"sk-toggleable__content\"><pre>SimpleImputer(fill_value='Missing', strategy='constant')</pre></div></div></div><div class=\"sk-item\"><div class=\"sk-estimator sk-toggleable\"><input class=\"sk-toggleable__control sk-hidden--visually\" id=\"21520928-6454-4515-b28b-6c5ec6ef917b\" type=\"checkbox\" ><label class=\"sk-toggleable__label\" for=\"21520928-6454-4515-b28b-6c5ec6ef917b\">OrdinalEncoder</label><div class=\"sk-toggleable__content\"><pre>OrdinalEncoder(categories=[['IR3', 'IR2', 'IR1', 'Reg'],\n",
       "                           ['ELO', 'NoSeWa', 'NoSewr', 'AllPub'],\n",
       "                           ['Sev', 'Mod', 'Gtl'],\n",
       "                           ['MeadowV', 'IDOTRR', 'BrDale', 'BrkSide', 'Edwards',\n",
       "                            'OldTown', 'Sawyer', 'Blueste', 'SWISU', 'NPkVill',\n",
       "                            'NAmes', 'Mitchel', 'SawyerW', 'NWAmes', 'Gilbert',\n",
       "                            'Blmngtn', 'CollgCr', 'Crawfor', 'ClearCr',\n",
       "                            'Somerst', 'Veenker', 'Timber', 'StoneBr',\n",
       "                            'NridgHt', 'NoRidge']...\n",
       "                            'GLQ'],\n",
       "                           ['Po', 'Fa', 'TA', 'Gd', 'Ex'], ['N', 'Y'],\n",
       "                           ['Po', 'Fa', 'TA', 'Gd', 'Ex'],\n",
       "                           ['Missing', 'Po', 'Fa', 'TA', 'Gd', 'Ex'],\n",
       "                           ['Missing', 'Unf', 'RFn', 'Fin'],\n",
       "                           ['Missing', 'Po', 'Fa', 'TA', 'Gd', 'Ex'],\n",
       "                           ['Missing', 'Po', 'Fa', 'TA', 'Gd', 'Ex'],\n",
       "                           ['N', 'P', 'Y'], ['Missing', 'Fa', 'TA', 'Gd', 'Ex'],\n",
       "                           ['Missing', 'MnWw', 'GdWo', 'MnPrv', 'GdPrv']],\n",
       "               handle_unknown='use_encoded_value', unknown_value=-999)</pre></div></div></div></div></div></div></div></div></div></div><div class=\"sk-item\"><div class=\"sk-estimator sk-toggleable\"><input class=\"sk-toggleable__control sk-hidden--visually\" id=\"bba31816-c39e-4af4-8ad2-8426fe0ca111\" type=\"checkbox\" ><label class=\"sk-toggleable__label\" for=\"bba31816-c39e-4af4-8ad2-8426fe0ca111\">SVR</label><div class=\"sk-toggleable__content\"><pre>SVR()</pre></div></div></div></div></div></div></div>"
      ],
      "text/plain": [
       "Pipeline(steps=[('prepro',\n",
       "                 ColumnTransformer(transformers=[('ohe_pipe',\n",
       "                                                  Pipeline(steps=[('ohe_imputer',\n",
       "                                                                   SimpleImputer(fill_value='Missing',\n",
       "                                                                                 strategy='constant')),\n",
       "                                                                  ('ohe_encoder',\n",
       "                                                                   OneHotEncoder(handle_unknown='ignore'))]),\n",
       "                                                  ['MSSubClass', 'MSZoning',\n",
       "                                                   'Street', 'Alley',\n",
       "                                                   'LandContour', 'LotConfig',\n",
       "                                                   'Condition1', 'Condition2',\n",
       "                                                   'BldgType', 'HouseStyle',\n",
       "                                                   'RoofStyle', 'Roof...\n",
       "                                                                                  handle_unknown='use_encoded_value',\n",
       "                                                                                  unknown_value=-999))]),\n",
       "                                                  ['LotShape', 'Utilities',\n",
       "                                                   'LandSlope', 'Neighborhood',\n",
       "                                                   'ExterQual', 'ExterCond',\n",
       "                                                   'BsmtQual', 'BsmtCond',\n",
       "                                                   'BsmtExposure',\n",
       "                                                   'BsmtFinType1',\n",
       "                                                   'BsmtFinType2', 'HeatingQC',\n",
       "                                                   'CentralAir', 'KitchenQual',\n",
       "                                                   'FireplaceQu',\n",
       "                                                   'GarageFinish', 'GarageQual',\n",
       "                                                   'GarageCond', 'PavedDrive',\n",
       "                                                   'PoolQC', 'Fence'])])),\n",
       "                ('model_svr', SVR())])"
      ]
     },
     "execution_count": 78,
     "metadata": {},
     "output_type": "execute_result"
    }
   ],
   "source": [
    "pipe_svr.fit(X_train, y_train)"
   ]
  },
  {
   "cell_type": "code",
   "execution_count": 79,
   "metadata": {},
   "outputs": [
    {
     "data": {
      "text/plain": [
       "array([-0.16146011, -0.13563572, -0.14455032, -0.1458673 , -0.13460105])"
      ]
     },
     "execution_count": 79,
     "metadata": {},
     "output_type": "execute_result"
    }
   ],
   "source": [
    "cross_val_score(pipe_svr, X_train, y_train, scoring=classic_rmse)"
   ]
  },
  {
   "cell_type": "code",
   "execution_count": 81,
   "metadata": {},
   "outputs": [],
   "source": [
    "y_pred = pipe_svr.predict(X_val)"
   ]
  },
  {
   "cell_type": "code",
   "execution_count": 82,
   "metadata": {},
   "outputs": [
    {
     "data": {
      "text/plain": [
       "0.1474950174302717"
      ]
     },
     "execution_count": 82,
     "metadata": {},
     "output_type": "execute_result"
    }
   ],
   "source": [
    "custom_score(y_val, y_pred)"
   ]
  },
  {
   "cell_type": "markdown",
   "metadata": {},
   "source": [
    "## Optimisation du modèle - à faire"
   ]
  },
  {
   "cell_type": "markdown",
   "metadata": {},
   "source": [
    "### Randomized Search"
   ]
  },
  {
   "cell_type": "code",
   "execution_count": 83,
   "metadata": {},
   "outputs": [
    {
     "data": {
      "text/plain": [
       "dict_keys(['memory', 'steps', 'verbose', 'prepro', 'model_svr', 'prepro__n_jobs', 'prepro__remainder', 'prepro__sparse_threshold', 'prepro__transformer_weights', 'prepro__transformers', 'prepro__verbose', 'prepro__ohe_pipe', 'prepro__num_pipe', 'prepro__ordinal_pipe', 'prepro__ohe_pipe__memory', 'prepro__ohe_pipe__steps', 'prepro__ohe_pipe__verbose', 'prepro__ohe_pipe__ohe_imputer', 'prepro__ohe_pipe__ohe_encoder', 'prepro__ohe_pipe__ohe_imputer__add_indicator', 'prepro__ohe_pipe__ohe_imputer__copy', 'prepro__ohe_pipe__ohe_imputer__fill_value', 'prepro__ohe_pipe__ohe_imputer__missing_values', 'prepro__ohe_pipe__ohe_imputer__strategy', 'prepro__ohe_pipe__ohe_imputer__verbose', 'prepro__ohe_pipe__ohe_encoder__categories', 'prepro__ohe_pipe__ohe_encoder__drop', 'prepro__ohe_pipe__ohe_encoder__dtype', 'prepro__ohe_pipe__ohe_encoder__handle_unknown', 'prepro__ohe_pipe__ohe_encoder__sparse', 'prepro__num_pipe__memory', 'prepro__num_pipe__steps', 'prepro__num_pipe__verbose', 'prepro__num_pipe__num_imputer', 'prepro__num_pipe__num_scaler', 'prepro__num_pipe__num_imputer__add_indicator', 'prepro__num_pipe__num_imputer__copy', 'prepro__num_pipe__num_imputer__fill_value', 'prepro__num_pipe__num_imputer__missing_values', 'prepro__num_pipe__num_imputer__strategy', 'prepro__num_pipe__num_imputer__verbose', 'prepro__num_pipe__num_scaler__clip', 'prepro__num_pipe__num_scaler__copy', 'prepro__num_pipe__num_scaler__feature_range', 'prepro__ordinal_pipe__memory', 'prepro__ordinal_pipe__steps', 'prepro__ordinal_pipe__verbose', 'prepro__ordinal_pipe__ordinal_imputer', 'prepro__ordinal_pipe__ordinal_encoder', 'prepro__ordinal_pipe__ordinal_imputer__add_indicator', 'prepro__ordinal_pipe__ordinal_imputer__copy', 'prepro__ordinal_pipe__ordinal_imputer__fill_value', 'prepro__ordinal_pipe__ordinal_imputer__missing_values', 'prepro__ordinal_pipe__ordinal_imputer__strategy', 'prepro__ordinal_pipe__ordinal_imputer__verbose', 'prepro__ordinal_pipe__ordinal_encoder__categories', 'prepro__ordinal_pipe__ordinal_encoder__dtype', 'prepro__ordinal_pipe__ordinal_encoder__handle_unknown', 'prepro__ordinal_pipe__ordinal_encoder__unknown_value', 'model_svr__C', 'model_svr__cache_size', 'model_svr__coef0', 'model_svr__degree', 'model_svr__epsilon', 'model_svr__gamma', 'model_svr__kernel', 'model_svr__max_iter', 'model_svr__shrinking', 'model_svr__tol', 'model_svr__verbose'])"
      ]
     },
     "execution_count": 83,
     "metadata": {},
     "output_type": "execute_result"
    }
   ],
   "source": [
    "pipe_svr.get_params().keys()"
   ]
  },
  {
   "cell_type": "code",
   "execution_count": 70,
   "metadata": {},
   "outputs": [
    {
     "data": {
      "text/html": [
       "<style>#sk-0c32175e-016d-4b21-b4e9-f7cb1ad92cb4 {color: black;background-color: white;}#sk-0c32175e-016d-4b21-b4e9-f7cb1ad92cb4 pre{padding: 0;}#sk-0c32175e-016d-4b21-b4e9-f7cb1ad92cb4 div.sk-toggleable {background-color: white;}#sk-0c32175e-016d-4b21-b4e9-f7cb1ad92cb4 label.sk-toggleable__label {cursor: pointer;display: block;width: 100%;margin-bottom: 0;padding: 0.2em 0.3em;box-sizing: border-box;text-align: center;}#sk-0c32175e-016d-4b21-b4e9-f7cb1ad92cb4 div.sk-toggleable__content {max-height: 0;max-width: 0;overflow: hidden;text-align: left;background-color: #f0f8ff;}#sk-0c32175e-016d-4b21-b4e9-f7cb1ad92cb4 div.sk-toggleable__content pre {margin: 0.2em;color: black;border-radius: 0.25em;background-color: #f0f8ff;}#sk-0c32175e-016d-4b21-b4e9-f7cb1ad92cb4 input.sk-toggleable__control:checked~div.sk-toggleable__content {max-height: 200px;max-width: 100%;overflow: auto;}#sk-0c32175e-016d-4b21-b4e9-f7cb1ad92cb4 div.sk-estimator input.sk-toggleable__control:checked~label.sk-toggleable__label {background-color: #d4ebff;}#sk-0c32175e-016d-4b21-b4e9-f7cb1ad92cb4 div.sk-label input.sk-toggleable__control:checked~label.sk-toggleable__label {background-color: #d4ebff;}#sk-0c32175e-016d-4b21-b4e9-f7cb1ad92cb4 input.sk-hidden--visually {border: 0;clip: rect(1px 1px 1px 1px);clip: rect(1px, 1px, 1px, 1px);height: 1px;margin: -1px;overflow: hidden;padding: 0;position: absolute;width: 1px;}#sk-0c32175e-016d-4b21-b4e9-f7cb1ad92cb4 div.sk-estimator {font-family: monospace;background-color: #f0f8ff;margin: 0.25em 0.25em;border: 1px dotted black;border-radius: 0.25em;box-sizing: border-box;}#sk-0c32175e-016d-4b21-b4e9-f7cb1ad92cb4 div.sk-estimator:hover {background-color: #d4ebff;}#sk-0c32175e-016d-4b21-b4e9-f7cb1ad92cb4 div.sk-parallel-item::after {content: \"\";width: 100%;border-bottom: 1px solid gray;flex-grow: 1;}#sk-0c32175e-016d-4b21-b4e9-f7cb1ad92cb4 div.sk-label:hover label.sk-toggleable__label {background-color: #d4ebff;}#sk-0c32175e-016d-4b21-b4e9-f7cb1ad92cb4 div.sk-serial::before {content: \"\";position: absolute;border-left: 1px solid gray;box-sizing: border-box;top: 2em;bottom: 0;left: 50%;}#sk-0c32175e-016d-4b21-b4e9-f7cb1ad92cb4 div.sk-serial {display: flex;flex-direction: column;align-items: center;background-color: white;}#sk-0c32175e-016d-4b21-b4e9-f7cb1ad92cb4 div.sk-item {z-index: 1;}#sk-0c32175e-016d-4b21-b4e9-f7cb1ad92cb4 div.sk-parallel {display: flex;align-items: stretch;justify-content: center;background-color: white;}#sk-0c32175e-016d-4b21-b4e9-f7cb1ad92cb4 div.sk-parallel-item {display: flex;flex-direction: column;position: relative;background-color: white;}#sk-0c32175e-016d-4b21-b4e9-f7cb1ad92cb4 div.sk-parallel-item:first-child::after {align-self: flex-end;width: 50%;}#sk-0c32175e-016d-4b21-b4e9-f7cb1ad92cb4 div.sk-parallel-item:last-child::after {align-self: flex-start;width: 50%;}#sk-0c32175e-016d-4b21-b4e9-f7cb1ad92cb4 div.sk-parallel-item:only-child::after {width: 0;}#sk-0c32175e-016d-4b21-b4e9-f7cb1ad92cb4 div.sk-dashed-wrapped {border: 1px dashed gray;margin: 0.2em;box-sizing: border-box;padding-bottom: 0.1em;background-color: white;position: relative;}#sk-0c32175e-016d-4b21-b4e9-f7cb1ad92cb4 div.sk-label label {font-family: monospace;font-weight: bold;background-color: white;display: inline-block;line-height: 1.2em;}#sk-0c32175e-016d-4b21-b4e9-f7cb1ad92cb4 div.sk-label-container {position: relative;z-index: 2;text-align: center;}#sk-0c32175e-016d-4b21-b4e9-f7cb1ad92cb4 div.sk-container {display: inline-block;position: relative;}</style><div id=\"sk-0c32175e-016d-4b21-b4e9-f7cb1ad92cb4\" class\"sk-top-container\"><div class=\"sk-container\"><div class=\"sk-item sk-dashed-wrapped\"><div class=\"sk-label-container\"><div class=\"sk-label sk-toggleable\"><input class=\"sk-toggleable__control sk-hidden--visually\" id=\"478ea412-aad5-4cd5-a450-826b56768dac\" type=\"checkbox\" ><label class=\"sk-toggleable__label\" for=\"478ea412-aad5-4cd5-a450-826b56768dac\">RandomizedSearchCV</label><div class=\"sk-toggleable__content\"><pre>RandomizedSearchCV(estimator=Pipeline(steps=[('prepro',\n",
       "                                              ColumnTransformer(transformers=[('ohe_pipe',\n",
       "                                                                               Pipeline(steps=[('ohe_imputer',\n",
       "                                                                                                SimpleImputer(fill_value='Missing',\n",
       "                                                                                                              strategy='constant')),\n",
       "                                                                                               ('ohe_encoder',\n",
       "                                                                                                OneHotEncoder(handle_unknown='ignore'))]),\n",
       "                                                                               ['MSSubClass',\n",
       "                                                                                'MSZoning',\n",
       "                                                                                'Street',\n",
       "                                                                                'Alley',\n",
       "                                                                                'LandContour',\n",
       "                                                                                'LotConfig',\n",
       "                                                                                'Condition1',\n",
       "                                                                                'Condition2',\n",
       "                                                                                'BldgType',\n",
       "                                                                                '...\n",
       "       5600, 5700, 5800, 5900, 6000, 6100, 6200, 6300, 6400, 6500, 6600,\n",
       "       6700, 6800, 6900, 7000, 7100, 7200, 7300, 7400, 7500, 7600, 7700,\n",
       "       7800, 7900, 8000, 8100, 8200, 8300, 8400, 8500, 8600, 8700, 8800,\n",
       "       8900, 9000, 9100, 9200, 9300, 9400, 9500, 9600, 9700, 9800, 9900]),\n",
       "                                        'model_ridge__solver': ['auto', 'svd',\n",
       "                                                                'cholesky',\n",
       "                                                                'lsqr',\n",
       "                                                                'sparse_cg',\n",
       "                                                                'sag',\n",
       "                                                                'saga']},\n",
       "                   random_state=0,\n",
       "                   scoring=make_scorer(custom_score, greater_is_better=False))</pre></div></div></div><div class=\"sk-parallel\"><div class=\"sk-parallel-item\"><div class=\"sk-item\"><div class=\"sk-serial\"><div class=\"sk-item\"><div class=\"sk-serial\"><div class=\"sk-item sk-dashed-wrapped\"><div class=\"sk-label-container\"><div class=\"sk-label sk-toggleable\"><input class=\"sk-toggleable__control sk-hidden--visually\" id=\"f5792d76-7c4a-4aa5-a39a-71037d3eca06\" type=\"checkbox\" ><label class=\"sk-toggleable__label\" for=\"f5792d76-7c4a-4aa5-a39a-71037d3eca06\">prepro: ColumnTransformer</label><div class=\"sk-toggleable__content\"><pre>ColumnTransformer(transformers=[('ohe_pipe',\n",
       "                                 Pipeline(steps=[('ohe_imputer',\n",
       "                                                  SimpleImputer(fill_value='Missing',\n",
       "                                                                strategy='constant')),\n",
       "                                                 ('ohe_encoder',\n",
       "                                                  OneHotEncoder(handle_unknown='ignore'))]),\n",
       "                                 ['MSSubClass', 'MSZoning', 'Street', 'Alley',\n",
       "                                  'LandContour', 'LotConfig', 'Condition1',\n",
       "                                  'Condition2', 'BldgType', 'HouseStyle',\n",
       "                                  'RoofStyle', 'RoofMatl', 'Exterior1st',\n",
       "                                  'Exter...\n",
       "                                                                              'GdWo',\n",
       "                                                                              'MnPrv',\n",
       "                                                                              'GdPrv']],\n",
       "                                                                 handle_unknown='use_encoded_value',\n",
       "                                                                 unknown_value=-999))]),\n",
       "                                 ['LotShape', 'Utilities', 'LandSlope',\n",
       "                                  'Neighborhood', 'ExterQual', 'ExterCond',\n",
       "                                  'BsmtQual', 'BsmtCond', 'BsmtExposure',\n",
       "                                  'BsmtFinType1', 'BsmtFinType2', 'HeatingQC',\n",
       "                                  'CentralAir', 'KitchenQual', 'FireplaceQu',\n",
       "                                  'GarageFinish', 'GarageQual', 'GarageCond',\n",
       "                                  'PavedDrive', 'PoolQC', 'Fence'])])</pre></div></div></div><div class=\"sk-parallel\"><div class=\"sk-parallel-item\"><div class=\"sk-item\"><div class=\"sk-label-container\"><div class=\"sk-label sk-toggleable\"><input class=\"sk-toggleable__control sk-hidden--visually\" id=\"75747c64-8911-456b-a7a3-8c8c85c159ef\" type=\"checkbox\" ><label class=\"sk-toggleable__label\" for=\"75747c64-8911-456b-a7a3-8c8c85c159ef\">ohe_pipe</label><div class=\"sk-toggleable__content\"><pre>['MSSubClass', 'MSZoning', 'Street', 'Alley', 'LandContour', 'LotConfig', 'Condition1', 'Condition2', 'BldgType', 'HouseStyle', 'RoofStyle', 'RoofMatl', 'Exterior1st', 'Exterior2nd', 'MasVnrType', 'Foundation', 'Heating', 'Electrical', 'Functional', 'GarageType', 'MiscFeature', 'SaleType', 'SaleCondition']</pre></div></div></div><div class=\"sk-serial\"><div class=\"sk-item\"><div class=\"sk-serial\"><div class=\"sk-item\"><div class=\"sk-estimator sk-toggleable\"><input class=\"sk-toggleable__control sk-hidden--visually\" id=\"c561ee9c-d9dd-432b-bd1a-c4a1c0f98ee1\" type=\"checkbox\" ><label class=\"sk-toggleable__label\" for=\"c561ee9c-d9dd-432b-bd1a-c4a1c0f98ee1\">SimpleImputer</label><div class=\"sk-toggleable__content\"><pre>SimpleImputer(fill_value='Missing', strategy='constant')</pre></div></div></div><div class=\"sk-item\"><div class=\"sk-estimator sk-toggleable\"><input class=\"sk-toggleable__control sk-hidden--visually\" id=\"c52b6829-5773-49fd-8104-bfb1773a3d72\" type=\"checkbox\" ><label class=\"sk-toggleable__label\" for=\"c52b6829-5773-49fd-8104-bfb1773a3d72\">OneHotEncoder</label><div class=\"sk-toggleable__content\"><pre>OneHotEncoder(handle_unknown='ignore')</pre></div></div></div></div></div></div></div></div><div class=\"sk-parallel-item\"><div class=\"sk-item\"><div class=\"sk-label-container\"><div class=\"sk-label sk-toggleable\"><input class=\"sk-toggleable__control sk-hidden--visually\" id=\"e4a9f15b-0d2c-4534-8cda-7eeedd705296\" type=\"checkbox\" ><label class=\"sk-toggleable__label\" for=\"e4a9f15b-0d2c-4534-8cda-7eeedd705296\">num_pipe</label><div class=\"sk-toggleable__content\"><pre>['LotArea', 'OverallQual', 'OverallCond', 'YearBuilt', 'YearRemodAdd', 'MasVnrArea', 'BsmtFinSF1', 'BsmtFinSF2', 'BsmtUnfSF', 'TotalBsmtSF', '1stFlrSF', '2ndFlrSF', 'LowQualFinSF', 'GrLivArea', 'BsmtFullBath', 'BsmtHalfBath', 'FullBath', 'HalfBath', 'BedroomAbvGr', 'KitchenAbvGr', 'TotRmsAbvGrd', 'Fireplaces', 'GarageYrBlt', 'GarageCars', 'GarageArea', 'WoodDeckSF', 'OpenPorchSF', 'EnclosedPorch', '3SsnPorch', 'ScreenPorch', 'PoolArea', 'MiscVal', 'MoSold', 'YrSold']</pre></div></div></div><div class=\"sk-serial\"><div class=\"sk-item\"><div class=\"sk-serial\"><div class=\"sk-item\"><div class=\"sk-estimator sk-toggleable\"><input class=\"sk-toggleable__control sk-hidden--visually\" id=\"b0f31f93-fa6c-49cf-86e9-fc9dfa71290e\" type=\"checkbox\" ><label class=\"sk-toggleable__label\" for=\"b0f31f93-fa6c-49cf-86e9-fc9dfa71290e\">SimpleImputer</label><div class=\"sk-toggleable__content\"><pre>SimpleImputer(fill_value=0, strategy='constant')</pre></div></div></div><div class=\"sk-item\"><div class=\"sk-estimator sk-toggleable\"><input class=\"sk-toggleable__control sk-hidden--visually\" id=\"1353d117-e183-4eb1-9c51-10574bb7fa51\" type=\"checkbox\" ><label class=\"sk-toggleable__label\" for=\"1353d117-e183-4eb1-9c51-10574bb7fa51\">MinMaxScaler</label><div class=\"sk-toggleable__content\"><pre>MinMaxScaler()</pre></div></div></div></div></div></div></div></div><div class=\"sk-parallel-item\"><div class=\"sk-item\"><div class=\"sk-label-container\"><div class=\"sk-label sk-toggleable\"><input class=\"sk-toggleable__control sk-hidden--visually\" id=\"b7b98bb3-2697-4942-871f-8c98597380c1\" type=\"checkbox\" ><label class=\"sk-toggleable__label\" for=\"b7b98bb3-2697-4942-871f-8c98597380c1\">ordinal_pipe</label><div class=\"sk-toggleable__content\"><pre>['LotShape', 'Utilities', 'LandSlope', 'Neighborhood', 'ExterQual', 'ExterCond', 'BsmtQual', 'BsmtCond', 'BsmtExposure', 'BsmtFinType1', 'BsmtFinType2', 'HeatingQC', 'CentralAir', 'KitchenQual', 'FireplaceQu', 'GarageFinish', 'GarageQual', 'GarageCond', 'PavedDrive', 'PoolQC', 'Fence']</pre></div></div></div><div class=\"sk-serial\"><div class=\"sk-item\"><div class=\"sk-serial\"><div class=\"sk-item\"><div class=\"sk-estimator sk-toggleable\"><input class=\"sk-toggleable__control sk-hidden--visually\" id=\"b37550c8-6504-437c-9246-110a4ffa1ca2\" type=\"checkbox\" ><label class=\"sk-toggleable__label\" for=\"b37550c8-6504-437c-9246-110a4ffa1ca2\">SimpleImputer</label><div class=\"sk-toggleable__content\"><pre>SimpleImputer(fill_value='Missing', strategy='constant')</pre></div></div></div><div class=\"sk-item\"><div class=\"sk-estimator sk-toggleable\"><input class=\"sk-toggleable__control sk-hidden--visually\" id=\"914a1f43-49cf-4fbf-a1b7-0a487d5224cd\" type=\"checkbox\" ><label class=\"sk-toggleable__label\" for=\"914a1f43-49cf-4fbf-a1b7-0a487d5224cd\">OrdinalEncoder</label><div class=\"sk-toggleable__content\"><pre>OrdinalEncoder(categories=[['IR3', 'IR2', 'IR1', 'Reg'],\n",
       "                           ['ELO', 'NoSeWa', 'NoSewr', 'AllPub'],\n",
       "                           ['Sev', 'Mod', 'Gtl'],\n",
       "                           ['MeadowV', 'IDOTRR', 'BrDale', 'BrkSide', 'Edwards',\n",
       "                            'OldTown', 'Sawyer', 'Blueste', 'SWISU', 'NPkVill',\n",
       "                            'NAmes', 'Mitchel', 'SawyerW', 'NWAmes', 'Gilbert',\n",
       "                            'Blmngtn', 'CollgCr', 'Crawfor', 'ClearCr',\n",
       "                            'Somerst', 'Veenker', 'Timber', 'StoneBr',\n",
       "                            'NridgHt', 'NoRidge']...\n",
       "                            'GLQ'],\n",
       "                           ['Po', 'Fa', 'TA', 'Gd', 'Ex'], ['N', 'Y'],\n",
       "                           ['Po', 'Fa', 'TA', 'Gd', 'Ex'],\n",
       "                           ['Missing', 'Po', 'Fa', 'TA', 'Gd', 'Ex'],\n",
       "                           ['Missing', 'Unf', 'RFn', 'Fin'],\n",
       "                           ['Missing', 'Po', 'Fa', 'TA', 'Gd', 'Ex'],\n",
       "                           ['Missing', 'Po', 'Fa', 'TA', 'Gd', 'Ex'],\n",
       "                           ['N', 'P', 'Y'], ['Missing', 'Fa', 'TA', 'Gd', 'Ex'],\n",
       "                           ['Missing', 'MnWw', 'GdWo', 'MnPrv', 'GdPrv']],\n",
       "               handle_unknown='use_encoded_value', unknown_value=-999)</pre></div></div></div></div></div></div></div></div></div></div><div class=\"sk-item\"><div class=\"sk-estimator sk-toggleable\"><input class=\"sk-toggleable__control sk-hidden--visually\" id=\"7c9bf7ff-0730-4e36-a448-67ee314f84df\" type=\"checkbox\" ><label class=\"sk-toggleable__label\" for=\"7c9bf7ff-0730-4e36-a448-67ee314f84df\">Ridge</label><div class=\"sk-toggleable__content\"><pre>Ridge()</pre></div></div></div></div></div></div></div></div></div></div></div></div>"
      ],
      "text/plain": [
       "RandomizedSearchCV(estimator=Pipeline(steps=[('prepro',\n",
       "                                              ColumnTransformer(transformers=[('ohe_pipe',\n",
       "                                                                               Pipeline(steps=[('ohe_imputer',\n",
       "                                                                                                SimpleImputer(fill_value='Missing',\n",
       "                                                                                                              strategy='constant')),\n",
       "                                                                                               ('ohe_encoder',\n",
       "                                                                                                OneHotEncoder(handle_unknown='ignore'))]),\n",
       "                                                                               ['MSSubClass',\n",
       "                                                                                'MSZoning',\n",
       "                                                                                'Street',\n",
       "                                                                                'Alley',\n",
       "                                                                                'LandContour',\n",
       "                                                                                'LotConfig',\n",
       "                                                                                'Condition1',\n",
       "                                                                                'Condition2',\n",
       "                                                                                'BldgType',\n",
       "                                                                                '...\n",
       "       5600, 5700, 5800, 5900, 6000, 6100, 6200, 6300, 6400, 6500, 6600,\n",
       "       6700, 6800, 6900, 7000, 7100, 7200, 7300, 7400, 7500, 7600, 7700,\n",
       "       7800, 7900, 8000, 8100, 8200, 8300, 8400, 8500, 8600, 8700, 8800,\n",
       "       8900, 9000, 9100, 9200, 9300, 9400, 9500, 9600, 9700, 9800, 9900]),\n",
       "                                        'model_ridge__solver': ['auto', 'svd',\n",
       "                                                                'cholesky',\n",
       "                                                                'lsqr',\n",
       "                                                                'sparse_cg',\n",
       "                                                                'sag',\n",
       "                                                                'saga']},\n",
       "                   random_state=0,\n",
       "                   scoring=make_scorer(custom_score, greater_is_better=False))"
      ]
     },
     "execution_count": 70,
     "metadata": {},
     "output_type": "execute_result"
    }
   ],
   "source": [
    "from sklearn.model_selection import RandomizedSearchCV\n",
    "distributions_svr = dict(model_svr_kernel = [\"linear\", \"poly\", \"rbf\", \"sigmoid\", \"precomputed\"], model_svr__max_iter = np.arange(100, 10000, 100), model_svr__C = np.linspace(0,1))\n",
    "\n",
    "svr_random_search = RandomizedSearchCV(pipe_ridge, distributions_ridge, random_state=0, scoring=classic_rmse)\n",
    "svr_random_search.fit(X_train, y_train)\n",
    "\n",
    "{‘linear’, ‘poly’, ‘rbf’, ‘sigmoid’, ‘precomputed’}"
   ]
  },
  {
   "cell_type": "code",
   "execution_count": 75,
   "metadata": {},
   "outputs": [
    {
     "name": "stdout",
     "output_type": "stream",
     "text": [
      "Best Score : -0.12843732904810506\n",
      "Best Parameters : {'model_ridge__solver': 'cholesky', 'model_ridge__max_iter': 5100, 'model_ridge__alpha': 0.9387755102040816}\n"
     ]
    }
   ],
   "source": [
    "print(f\"Best Score : {svr_random_search.best_score_}\")\n",
    "print(f\"Best Parameters : {svr_random_search.best_params_}\")"
   ]
  },
  {
   "cell_type": "markdown",
   "metadata": {},
   "source": [
    "# Random Forest"
   ]
  },
  {
   "cell_type": "markdown",
   "metadata": {},
   "source": [
    "## Entrainement et prédiction avec split"
   ]
  },
  {
   "cell_type": "code",
   "execution_count": 85,
   "metadata": {},
   "outputs": [],
   "source": [
    "X_train, X_val, y_train, y_val = train_test_split(X, y, test_size = 0.2, random_state = 0)"
   ]
  },
  {
   "cell_type": "code",
   "execution_count": 86,
   "metadata": {},
   "outputs": [
    {
     "data": {
      "text/html": [
       "<style>#sk-92f489c3-b451-4e2f-bc22-f1c5323d3329 {color: black;background-color: white;}#sk-92f489c3-b451-4e2f-bc22-f1c5323d3329 pre{padding: 0;}#sk-92f489c3-b451-4e2f-bc22-f1c5323d3329 div.sk-toggleable {background-color: white;}#sk-92f489c3-b451-4e2f-bc22-f1c5323d3329 label.sk-toggleable__label {cursor: pointer;display: block;width: 100%;margin-bottom: 0;padding: 0.2em 0.3em;box-sizing: border-box;text-align: center;}#sk-92f489c3-b451-4e2f-bc22-f1c5323d3329 div.sk-toggleable__content {max-height: 0;max-width: 0;overflow: hidden;text-align: left;background-color: #f0f8ff;}#sk-92f489c3-b451-4e2f-bc22-f1c5323d3329 div.sk-toggleable__content pre {margin: 0.2em;color: black;border-radius: 0.25em;background-color: #f0f8ff;}#sk-92f489c3-b451-4e2f-bc22-f1c5323d3329 input.sk-toggleable__control:checked~div.sk-toggleable__content {max-height: 200px;max-width: 100%;overflow: auto;}#sk-92f489c3-b451-4e2f-bc22-f1c5323d3329 div.sk-estimator input.sk-toggleable__control:checked~label.sk-toggleable__label {background-color: #d4ebff;}#sk-92f489c3-b451-4e2f-bc22-f1c5323d3329 div.sk-label input.sk-toggleable__control:checked~label.sk-toggleable__label {background-color: #d4ebff;}#sk-92f489c3-b451-4e2f-bc22-f1c5323d3329 input.sk-hidden--visually {border: 0;clip: rect(1px 1px 1px 1px);clip: rect(1px, 1px, 1px, 1px);height: 1px;margin: -1px;overflow: hidden;padding: 0;position: absolute;width: 1px;}#sk-92f489c3-b451-4e2f-bc22-f1c5323d3329 div.sk-estimator {font-family: monospace;background-color: #f0f8ff;margin: 0.25em 0.25em;border: 1px dotted black;border-radius: 0.25em;box-sizing: border-box;}#sk-92f489c3-b451-4e2f-bc22-f1c5323d3329 div.sk-estimator:hover {background-color: #d4ebff;}#sk-92f489c3-b451-4e2f-bc22-f1c5323d3329 div.sk-parallel-item::after {content: \"\";width: 100%;border-bottom: 1px solid gray;flex-grow: 1;}#sk-92f489c3-b451-4e2f-bc22-f1c5323d3329 div.sk-label:hover label.sk-toggleable__label {background-color: #d4ebff;}#sk-92f489c3-b451-4e2f-bc22-f1c5323d3329 div.sk-serial::before {content: \"\";position: absolute;border-left: 1px solid gray;box-sizing: border-box;top: 2em;bottom: 0;left: 50%;}#sk-92f489c3-b451-4e2f-bc22-f1c5323d3329 div.sk-serial {display: flex;flex-direction: column;align-items: center;background-color: white;}#sk-92f489c3-b451-4e2f-bc22-f1c5323d3329 div.sk-item {z-index: 1;}#sk-92f489c3-b451-4e2f-bc22-f1c5323d3329 div.sk-parallel {display: flex;align-items: stretch;justify-content: center;background-color: white;}#sk-92f489c3-b451-4e2f-bc22-f1c5323d3329 div.sk-parallel-item {display: flex;flex-direction: column;position: relative;background-color: white;}#sk-92f489c3-b451-4e2f-bc22-f1c5323d3329 div.sk-parallel-item:first-child::after {align-self: flex-end;width: 50%;}#sk-92f489c3-b451-4e2f-bc22-f1c5323d3329 div.sk-parallel-item:last-child::after {align-self: flex-start;width: 50%;}#sk-92f489c3-b451-4e2f-bc22-f1c5323d3329 div.sk-parallel-item:only-child::after {width: 0;}#sk-92f489c3-b451-4e2f-bc22-f1c5323d3329 div.sk-dashed-wrapped {border: 1px dashed gray;margin: 0.2em;box-sizing: border-box;padding-bottom: 0.1em;background-color: white;position: relative;}#sk-92f489c3-b451-4e2f-bc22-f1c5323d3329 div.sk-label label {font-family: monospace;font-weight: bold;background-color: white;display: inline-block;line-height: 1.2em;}#sk-92f489c3-b451-4e2f-bc22-f1c5323d3329 div.sk-label-container {position: relative;z-index: 2;text-align: center;}#sk-92f489c3-b451-4e2f-bc22-f1c5323d3329 div.sk-container {display: inline-block;position: relative;}</style><div id=\"sk-92f489c3-b451-4e2f-bc22-f1c5323d3329\" class\"sk-top-container\"><div class=\"sk-container\"><div class=\"sk-item sk-dashed-wrapped\"><div class=\"sk-label-container\"><div class=\"sk-label sk-toggleable\"><input class=\"sk-toggleable__control sk-hidden--visually\" id=\"55aa522a-638f-406b-9dbb-6a772117000b\" type=\"checkbox\" ><label class=\"sk-toggleable__label\" for=\"55aa522a-638f-406b-9dbb-6a772117000b\">Pipeline</label><div class=\"sk-toggleable__content\"><pre>Pipeline(steps=[('prepro',\n",
       "                 ColumnTransformer(transformers=[('ohe_pipe',\n",
       "                                                  Pipeline(steps=[('ohe_imputer',\n",
       "                                                                   SimpleImputer(fill_value='Missing',\n",
       "                                                                                 strategy='constant')),\n",
       "                                                                  ('ohe_encoder',\n",
       "                                                                   OneHotEncoder(handle_unknown='ignore'))]),\n",
       "                                                  ['MSSubClass', 'MSZoning',\n",
       "                                                   'Street', 'Alley',\n",
       "                                                   'LandContour', 'LotConfig',\n",
       "                                                   'Condition1', 'Condition2',\n",
       "                                                   'BldgType', 'HouseStyle',\n",
       "                                                   'RoofStyle', 'Roof...\n",
       "                                                                                  handle_unknown='use_encoded_value',\n",
       "                                                                                  unknown_value=-999))]),\n",
       "                                                  ['LotShape', 'Utilities',\n",
       "                                                   'LandSlope', 'Neighborhood',\n",
       "                                                   'ExterQual', 'ExterCond',\n",
       "                                                   'BsmtQual', 'BsmtCond',\n",
       "                                                   'BsmtExposure',\n",
       "                                                   'BsmtFinType1',\n",
       "                                                   'BsmtFinType2', 'HeatingQC',\n",
       "                                                   'CentralAir', 'KitchenQual',\n",
       "                                                   'FireplaceQu',\n",
       "                                                   'GarageFinish', 'GarageQual',\n",
       "                                                   'GarageCond', 'PavedDrive',\n",
       "                                                   'PoolQC', 'Fence'])])),\n",
       "                ('model_forest', RandomForestRegressor())])</pre></div></div></div><div class=\"sk-serial\"><div class=\"sk-item sk-dashed-wrapped\"><div class=\"sk-label-container\"><div class=\"sk-label sk-toggleable\"><input class=\"sk-toggleable__control sk-hidden--visually\" id=\"d319299a-3d68-4bf1-9aba-b486aaaaf509\" type=\"checkbox\" ><label class=\"sk-toggleable__label\" for=\"d319299a-3d68-4bf1-9aba-b486aaaaf509\">prepro: ColumnTransformer</label><div class=\"sk-toggleable__content\"><pre>ColumnTransformer(transformers=[('ohe_pipe',\n",
       "                                 Pipeline(steps=[('ohe_imputer',\n",
       "                                                  SimpleImputer(fill_value='Missing',\n",
       "                                                                strategy='constant')),\n",
       "                                                 ('ohe_encoder',\n",
       "                                                  OneHotEncoder(handle_unknown='ignore'))]),\n",
       "                                 ['MSSubClass', 'MSZoning', 'Street', 'Alley',\n",
       "                                  'LandContour', 'LotConfig', 'Condition1',\n",
       "                                  'Condition2', 'BldgType', 'HouseStyle',\n",
       "                                  'RoofStyle', 'RoofMatl', 'Exterior1st',\n",
       "                                  'Exter...\n",
       "                                                                              'GdWo',\n",
       "                                                                              'MnPrv',\n",
       "                                                                              'GdPrv']],\n",
       "                                                                 handle_unknown='use_encoded_value',\n",
       "                                                                 unknown_value=-999))]),\n",
       "                                 ['LotShape', 'Utilities', 'LandSlope',\n",
       "                                  'Neighborhood', 'ExterQual', 'ExterCond',\n",
       "                                  'BsmtQual', 'BsmtCond', 'BsmtExposure',\n",
       "                                  'BsmtFinType1', 'BsmtFinType2', 'HeatingQC',\n",
       "                                  'CentralAir', 'KitchenQual', 'FireplaceQu',\n",
       "                                  'GarageFinish', 'GarageQual', 'GarageCond',\n",
       "                                  'PavedDrive', 'PoolQC', 'Fence'])])</pre></div></div></div><div class=\"sk-parallel\"><div class=\"sk-parallel-item\"><div class=\"sk-item\"><div class=\"sk-label-container\"><div class=\"sk-label sk-toggleable\"><input class=\"sk-toggleable__control sk-hidden--visually\" id=\"03f550ac-9b24-4d61-8ecd-166771065aac\" type=\"checkbox\" ><label class=\"sk-toggleable__label\" for=\"03f550ac-9b24-4d61-8ecd-166771065aac\">ohe_pipe</label><div class=\"sk-toggleable__content\"><pre>['MSSubClass', 'MSZoning', 'Street', 'Alley', 'LandContour', 'LotConfig', 'Condition1', 'Condition2', 'BldgType', 'HouseStyle', 'RoofStyle', 'RoofMatl', 'Exterior1st', 'Exterior2nd', 'MasVnrType', 'Foundation', 'Heating', 'Electrical', 'Functional', 'GarageType', 'MiscFeature', 'SaleType', 'SaleCondition']</pre></div></div></div><div class=\"sk-serial\"><div class=\"sk-item\"><div class=\"sk-serial\"><div class=\"sk-item\"><div class=\"sk-estimator sk-toggleable\"><input class=\"sk-toggleable__control sk-hidden--visually\" id=\"d13fd073-508f-4ad2-853e-d6508c6e55a9\" type=\"checkbox\" ><label class=\"sk-toggleable__label\" for=\"d13fd073-508f-4ad2-853e-d6508c6e55a9\">SimpleImputer</label><div class=\"sk-toggleable__content\"><pre>SimpleImputer(fill_value='Missing', strategy='constant')</pre></div></div></div><div class=\"sk-item\"><div class=\"sk-estimator sk-toggleable\"><input class=\"sk-toggleable__control sk-hidden--visually\" id=\"3240a92a-2696-46e1-a882-30e0a4a04d89\" type=\"checkbox\" ><label class=\"sk-toggleable__label\" for=\"3240a92a-2696-46e1-a882-30e0a4a04d89\">OneHotEncoder</label><div class=\"sk-toggleable__content\"><pre>OneHotEncoder(handle_unknown='ignore')</pre></div></div></div></div></div></div></div></div><div class=\"sk-parallel-item\"><div class=\"sk-item\"><div class=\"sk-label-container\"><div class=\"sk-label sk-toggleable\"><input class=\"sk-toggleable__control sk-hidden--visually\" id=\"6b478694-6efd-4ade-940c-bcc215d81d2b\" type=\"checkbox\" ><label class=\"sk-toggleable__label\" for=\"6b478694-6efd-4ade-940c-bcc215d81d2b\">num_pipe</label><div class=\"sk-toggleable__content\"><pre>['LotArea', 'OverallQual', 'OverallCond', 'YearBuilt', 'YearRemodAdd', 'MasVnrArea', 'BsmtFinSF1', 'BsmtFinSF2', 'BsmtUnfSF', 'TotalBsmtSF', '1stFlrSF', '2ndFlrSF', 'LowQualFinSF', 'GrLivArea', 'BsmtFullBath', 'BsmtHalfBath', 'FullBath', 'HalfBath', 'BedroomAbvGr', 'KitchenAbvGr', 'TotRmsAbvGrd', 'Fireplaces', 'GarageYrBlt', 'GarageCars', 'GarageArea', 'WoodDeckSF', 'OpenPorchSF', 'EnclosedPorch', '3SsnPorch', 'ScreenPorch', 'PoolArea', 'MiscVal', 'MoSold', 'YrSold']</pre></div></div></div><div class=\"sk-serial\"><div class=\"sk-item\"><div class=\"sk-serial\"><div class=\"sk-item\"><div class=\"sk-estimator sk-toggleable\"><input class=\"sk-toggleable__control sk-hidden--visually\" id=\"33a83cee-b006-4673-965e-06056abcb619\" type=\"checkbox\" ><label class=\"sk-toggleable__label\" for=\"33a83cee-b006-4673-965e-06056abcb619\">SimpleImputer</label><div class=\"sk-toggleable__content\"><pre>SimpleImputer(fill_value=0, strategy='constant')</pre></div></div></div><div class=\"sk-item\"><div class=\"sk-estimator sk-toggleable\"><input class=\"sk-toggleable__control sk-hidden--visually\" id=\"6e825925-7ff3-46a1-9f56-04ab46e279ea\" type=\"checkbox\" ><label class=\"sk-toggleable__label\" for=\"6e825925-7ff3-46a1-9f56-04ab46e279ea\">MinMaxScaler</label><div class=\"sk-toggleable__content\"><pre>MinMaxScaler()</pre></div></div></div></div></div></div></div></div><div class=\"sk-parallel-item\"><div class=\"sk-item\"><div class=\"sk-label-container\"><div class=\"sk-label sk-toggleable\"><input class=\"sk-toggleable__control sk-hidden--visually\" id=\"4551f7e3-69aa-40fc-90ea-2f734f4518c0\" type=\"checkbox\" ><label class=\"sk-toggleable__label\" for=\"4551f7e3-69aa-40fc-90ea-2f734f4518c0\">ordinal_pipe</label><div class=\"sk-toggleable__content\"><pre>['LotShape', 'Utilities', 'LandSlope', 'Neighborhood', 'ExterQual', 'ExterCond', 'BsmtQual', 'BsmtCond', 'BsmtExposure', 'BsmtFinType1', 'BsmtFinType2', 'HeatingQC', 'CentralAir', 'KitchenQual', 'FireplaceQu', 'GarageFinish', 'GarageQual', 'GarageCond', 'PavedDrive', 'PoolQC', 'Fence']</pre></div></div></div><div class=\"sk-serial\"><div class=\"sk-item\"><div class=\"sk-serial\"><div class=\"sk-item\"><div class=\"sk-estimator sk-toggleable\"><input class=\"sk-toggleable__control sk-hidden--visually\" id=\"fdd291f5-e0bc-47c0-819c-9122bb6800cf\" type=\"checkbox\" ><label class=\"sk-toggleable__label\" for=\"fdd291f5-e0bc-47c0-819c-9122bb6800cf\">SimpleImputer</label><div class=\"sk-toggleable__content\"><pre>SimpleImputer(fill_value='Missing', strategy='constant')</pre></div></div></div><div class=\"sk-item\"><div class=\"sk-estimator sk-toggleable\"><input class=\"sk-toggleable__control sk-hidden--visually\" id=\"026e6e25-0092-49e7-9845-2305caa1ee67\" type=\"checkbox\" ><label class=\"sk-toggleable__label\" for=\"026e6e25-0092-49e7-9845-2305caa1ee67\">OrdinalEncoder</label><div class=\"sk-toggleable__content\"><pre>OrdinalEncoder(categories=[['IR3', 'IR2', 'IR1', 'Reg'],\n",
       "                           ['ELO', 'NoSeWa', 'NoSewr', 'AllPub'],\n",
       "                           ['Sev', 'Mod', 'Gtl'],\n",
       "                           ['MeadowV', 'IDOTRR', 'BrDale', 'BrkSide', 'Edwards',\n",
       "                            'OldTown', 'Sawyer', 'Blueste', 'SWISU', 'NPkVill',\n",
       "                            'NAmes', 'Mitchel', 'SawyerW', 'NWAmes', 'Gilbert',\n",
       "                            'Blmngtn', 'CollgCr', 'Crawfor', 'ClearCr',\n",
       "                            'Somerst', 'Veenker', 'Timber', 'StoneBr',\n",
       "                            'NridgHt', 'NoRidge']...\n",
       "                            'GLQ'],\n",
       "                           ['Po', 'Fa', 'TA', 'Gd', 'Ex'], ['N', 'Y'],\n",
       "                           ['Po', 'Fa', 'TA', 'Gd', 'Ex'],\n",
       "                           ['Missing', 'Po', 'Fa', 'TA', 'Gd', 'Ex'],\n",
       "                           ['Missing', 'Unf', 'RFn', 'Fin'],\n",
       "                           ['Missing', 'Po', 'Fa', 'TA', 'Gd', 'Ex'],\n",
       "                           ['Missing', 'Po', 'Fa', 'TA', 'Gd', 'Ex'],\n",
       "                           ['N', 'P', 'Y'], ['Missing', 'Fa', 'TA', 'Gd', 'Ex'],\n",
       "                           ['Missing', 'MnWw', 'GdWo', 'MnPrv', 'GdPrv']],\n",
       "               handle_unknown='use_encoded_value', unknown_value=-999)</pre></div></div></div></div></div></div></div></div></div></div><div class=\"sk-item\"><div class=\"sk-estimator sk-toggleable\"><input class=\"sk-toggleable__control sk-hidden--visually\" id=\"6cf5e96c-cbad-4864-9e56-a3fdfa4422d6\" type=\"checkbox\" ><label class=\"sk-toggleable__label\" for=\"6cf5e96c-cbad-4864-9e56-a3fdfa4422d6\">RandomForestRegressor</label><div class=\"sk-toggleable__content\"><pre>RandomForestRegressor()</pre></div></div></div></div></div></div></div>"
      ],
      "text/plain": [
       "Pipeline(steps=[('prepro',\n",
       "                 ColumnTransformer(transformers=[('ohe_pipe',\n",
       "                                                  Pipeline(steps=[('ohe_imputer',\n",
       "                                                                   SimpleImputer(fill_value='Missing',\n",
       "                                                                                 strategy='constant')),\n",
       "                                                                  ('ohe_encoder',\n",
       "                                                                   OneHotEncoder(handle_unknown='ignore'))]),\n",
       "                                                  ['MSSubClass', 'MSZoning',\n",
       "                                                   'Street', 'Alley',\n",
       "                                                   'LandContour', 'LotConfig',\n",
       "                                                   'Condition1', 'Condition2',\n",
       "                                                   'BldgType', 'HouseStyle',\n",
       "                                                   'RoofStyle', 'Roof...\n",
       "                                                                                  handle_unknown='use_encoded_value',\n",
       "                                                                                  unknown_value=-999))]),\n",
       "                                                  ['LotShape', 'Utilities',\n",
       "                                                   'LandSlope', 'Neighborhood',\n",
       "                                                   'ExterQual', 'ExterCond',\n",
       "                                                   'BsmtQual', 'BsmtCond',\n",
       "                                                   'BsmtExposure',\n",
       "                                                   'BsmtFinType1',\n",
       "                                                   'BsmtFinType2', 'HeatingQC',\n",
       "                                                   'CentralAir', 'KitchenQual',\n",
       "                                                   'FireplaceQu',\n",
       "                                                   'GarageFinish', 'GarageQual',\n",
       "                                                   'GarageCond', 'PavedDrive',\n",
       "                                                   'PoolQC', 'Fence'])])),\n",
       "                ('model_forest', RandomForestRegressor())])"
      ]
     },
     "execution_count": 86,
     "metadata": {},
     "output_type": "execute_result"
    }
   ],
   "source": [
    "pipe_forest.fit(X_train, y_train)"
   ]
  },
  {
   "cell_type": "code",
   "execution_count": 87,
   "metadata": {},
   "outputs": [
    {
     "data": {
      "text/plain": [
       "array([-0.14841166, -0.14071319, -0.14335062, -0.15686144, -0.12119801])"
      ]
     },
     "execution_count": 87,
     "metadata": {},
     "output_type": "execute_result"
    }
   ],
   "source": [
    "cross_val_score(pipe_forest, X_train, y_train, scoring=classic_rmse)"
   ]
  },
  {
   "cell_type": "code",
   "execution_count": 88,
   "metadata": {},
   "outputs": [],
   "source": [
    "y_pred = pipe_forest.predict(X_val)"
   ]
  },
  {
   "cell_type": "code",
   "execution_count": 89,
   "metadata": {},
   "outputs": [
    {
     "data": {
      "text/plain": [
       "0.1340069933505423"
      ]
     },
     "execution_count": 89,
     "metadata": {},
     "output_type": "execute_result"
    }
   ],
   "source": [
    "custom_score(y_val, y_pred)"
   ]
  },
  {
   "cell_type": "markdown",
   "metadata": {},
   "source": [
    "## Optimisation des hyperparamières - A faire"
   ]
  },
  {
   "cell_type": "markdown",
   "metadata": {},
   "source": [
    "# Modèles d'ensemble - à "
   ]
  },
  {
   "cell_type": "code",
   "execution_count": null,
   "metadata": {},
   "outputs": [],
   "source": []
  }
 ],
 "metadata": {
  "kernelspec": {
   "display_name": "Python 3",
   "language": "python",
   "name": "python3"
  },
  "language_info": {
   "codemirror_mode": {
    "name": "ipython",
    "version": 3
   },
   "file_extension": ".py",
   "mimetype": "text/x-python",
   "name": "python",
   "nbconvert_exporter": "python",
   "pygments_lexer": "ipython3",
   "version": "3.8.5"
  },
  "toc": {
   "base_numbering": 1,
   "nav_menu": {},
   "number_sections": true,
   "sideBar": true,
   "skip_h1_title": false,
   "title_cell": "Table of Contents",
   "title_sidebar": "Contents",
   "toc_cell": false,
   "toc_position": {},
   "toc_section_display": true,
   "toc_window_display": true
  }
 },
 "nbformat": 4,
 "nbformat_minor": 4
}
